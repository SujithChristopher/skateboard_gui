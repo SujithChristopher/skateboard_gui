{
 "cells": [
  {
   "cell_type": "code",
   "execution_count": 4,
   "metadata": {},
   "outputs": [],
   "source": [
    "import msgpack as mp\n",
    "import msgpack_numpy as mpn\n",
    "import numpy as np\n",
    "import cv2\n",
    "import matplotlib.pyplot as plt\n",
    "import sys\n",
    "import os\n",
    "\n",
    "sys.path.append(os.path.join(os.getcwd(), \"..\"))\n",
    "from support.generate_ar_data import *\n",
    "from support.pd_support import *\n",
    "from support.calculations_support import *"
   ]
  },
  {
   "cell_type": "code",
   "execution_count": 2,
   "metadata": {},
   "outputs": [],
   "source": [
    "#data path\n",
    "_folder_name = \"60bpm_forward_t2\"\n",
    "\n",
    "_base_pth = r\"C:\\Users\\CMC\\Documents\\openposelibs\\pose\\skateboard_gui\\test_programs\\test_data\"\n",
    "_pth = os.path.join(_base_pth, _folder_name)"
   ]
  },
  {
   "cell_type": "code",
   "execution_count": 3,
   "metadata": {},
   "outputs": [],
   "source": [
    "_calib_pth = os.path.join(_base_pth, \"calibration3\")\n",
    "_webcam_calib_pth = os.path.join(_calib_pth, \"webcam_calibration.msgpack\")\n",
    "_webcam_rotmat_pth = os.path.join(_calib_pth, \"webcam_rotmat.msgpack\")\n",
    "_webcam_timestamp_pth = os.path.join(_pth, \"webcam_timestamp.msgpack\")"
   ]
  }
 ],
 "metadata": {
  "kernelspec": {
   "display_name": "Python 3.7.10 ('py37')",
   "language": "python",
   "name": "python3"
  },
  "language_info": {
   "codemirror_mode": {
    "name": "ipython",
    "version": 3
   },
   "file_extension": ".py",
   "mimetype": "text/x-python",
   "name": "python",
   "nbconvert_exporter": "python",
   "pygments_lexer": "ipython3",
   "version": "3.7.10"
  },
  "orig_nbformat": 4,
  "vscode": {
   "interpreter": {
    "hash": "9155ed13ae59af36fa8fe909dc2a4e596372424a79cec27c4874846a87147a0e"
   }
  }
 },
 "nbformat": 4,
 "nbformat_minor": 2
}
