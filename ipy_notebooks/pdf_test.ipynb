{
 "cells": [
  {
   "cell_type": "code",
   "execution_count": 1,
   "metadata": {},
   "outputs": [],
   "source": [
    "from fpdf import FPDF\n",
    "import numpy as np\n",
    "import cv2\n",
    "import os"
   ]
  },
  {
   "cell_type": "code",
   "execution_count": 115,
   "metadata": {},
   "outputs": [
    {
     "data": {
      "text/plain": [
       "<bound method FPDF.line of <fpdf.fpdf.FPDF object at 0x0000018D82746988>>"
      ]
     },
     "execution_count": 115,
     "metadata": {},
     "output_type": "execute_result"
    }
   ],
   "source": [
    "blocks_no = 20\n",
    "maximum_ang = 30\n",
    "\n",
    "\n",
    "fpdf = FPDF(orientation = 'P', unit = 'mm', format='A4')\n",
    "fpdf.add_page()\n",
    "fpdf.set_font(\"Arial\", style = '', size = 14)\n",
    "fpdf.image('..//src//logo.jpg', x=40, y=10, w=20, h=20)\n",
    "fpdf.multi_cell( w=180, h=10, txt=\"Christian Medical College, Vellore\", align=\"C\")\n",
    "fpdf.set_font(\"Arial\", style = '', size = 16)\n",
    "fpdf.multi_cell( w=180, h=10, txt=\"Department of Bioengineering\", align=\"C\")\n",
    "fpdf.set_font(\"Arial\", style = '', size = 18)\n",
    "fpdf.multi_cell( w=200, h=10, txt=\"\", align=\"C\")\n",
    "fpdf.multi_cell( w=100, h=10, txt=\"Patient Name: XXXX YYYY\", align=\"L\")\n",
    "fpdf.multi_cell( w=100, h=10, txt=\"Patient Age\\t:  36\", align=\"L\")\n",
    "fpdf.multi_cell( w=100, h=10, txt=\"Condition\\t\\t:  Stroke\", align=\"L\")\n",
    "fpdf.multi_cell( w=100, h=10, txt=\"Hospital ID   :  10000G\", align=\"L\")\n",
    "fpdf.multi_cell( w=100, h=10, txt=\"Locality       :  Vellore\", align=\"L\")\n",
    "fpdf.image('..//src//example.jpg', x=100, y=40, w=80, h=80)\n",
    "\n",
    "fpdf.image(\"..//src//figure.png\", x=0, y=170, w=200, h=120)\n",
    "\n",
    "fpdf.line\n",
    "\n",
    "\n"
   ]
  },
  {
   "cell_type": "code",
   "execution_count": 116,
   "metadata": {},
   "outputs": [
    {
     "data": {
      "text/plain": [
       "''"
      ]
     },
     "execution_count": 116,
     "metadata": {},
     "output_type": "execute_result"
    }
   ],
   "source": [
    "fpdf.output('..//src//example1.pdf', 'F')"
   ]
  },
  {
   "cell_type": "code",
   "execution_count": null,
   "metadata": {},
   "outputs": [],
   "source": []
  }
 ],
 "metadata": {
  "interpreter": {
   "hash": "6729a4ba6b7fbdf0a8589db33f214377d3fb4b86db684dd36447026323300434"
  },
  "kernelspec": {
   "display_name": "Python 3.7.11 64-bit ('py37t2': conda)",
   "name": "python3"
  },
  "language_info": {
   "codemirror_mode": {
    "name": "ipython",
    "version": 3
   },
   "file_extension": ".py",
   "mimetype": "text/x-python",
   "name": "python",
   "nbconvert_exporter": "python",
   "pygments_lexer": "ipython3",
   "version": "3.7.11"
  },
  "orig_nbformat": 4
 },
 "nbformat": 4,
 "nbformat_minor": 2
}
