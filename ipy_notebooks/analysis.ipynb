{
 "cells": [
  {
   "cell_type": "code",
   "execution_count": 16,
   "metadata": {},
   "outputs": [],
   "source": [
    "import msgpack as mp\n",
    "import msgpack_numpy as mpn\n",
    "import numpy as np\n",
    "import cv2\n",
    "import matplotlib.pyplot as plt\n",
    "import sys\n",
    "import os\n",
    "\n",
    "sys.path.append(os.path.join(os.getcwd(), \"..\"))\n",
    "from support.generate_ar_data import *"
   ]
  },
  {
   "cell_type": "code",
   "execution_count": 22,
   "metadata": {},
   "outputs": [],
   "source": [
    "#data path\n",
    "_folder_name = \"40bpm_forward\"\n",
    "\n",
    "_base_pth = r\"C:\\Users\\CMC\\Documents\\openposelibs\\pose\\skateboard_gui\\test_programs\\test_data\"\n",
    "_pth = os.path.join(_base_pth, _folder_name)"
   ]
  },
  {
   "cell_type": "code",
   "execution_count": 23,
   "metadata": {},
   "outputs": [],
   "source": [
    "#calibration path\n",
    "_calib_pth = os.path.join(_base_pth, \"calibration3\")\n",
    "_kinect_calib_pth = os.path.join(_calib_pth, \"kinect_calibration.msgpack\")\n",
    "_realsense_calib_pth = os.path.join(_calib_pth, \"realsense_calibration.msgpack\")\n",
    "_webcam_calib_pth = os.path.join(_calib_pth, \"webcam_calibration.msgpack\")\n",
    "\n",
    "#rotation matrix path\n",
    "_kinect_rotmat_pth = os.path.join(_calib_pth, \"kinect_rotmat.msgpack\")\n",
    "_realsense_rotmat_pth = os.path.join(_calib_pth, \"realsense_rotmat.msgpack\")\n",
    "_webcam_rotmat_pth = os.path.join(_calib_pth, \"webcam_rotmat.msgpack\")\n",
    "\n",
    "_kinect_video_pth = os.path.join(_pth, \"kinect_color.msgpack\")\n",
    "_realsense_video_pth = os.path.join(_pth, \"realsense_color.msgpack\")\n",
    "_webcam_video_pth = os.path.join(_pth, \"webcam_color.msgpack\")\n",
    "\n",
    "\n"
   ]
  },
  {
   "cell_type": "code",
   "execution_count": 11,
   "metadata": {},
   "outputs": [],
   "source": [
    "#open the calibration files\n",
    "with open(_kinect_calib_pth, \"rb\") as f:\n",
    "    kinect_calib = mp.Unpacker(f, object_hook=mpn.decode)\n",
    "    _temp = next(kinect_calib)\n",
    "    _kinect_cam_mat = _temp[0]\n",
    "    _kinect_dist = _temp[1]\n",
    "\n",
    "#open for realsense\n",
    "with open(_realsense_calib_pth, \"rb\") as f:\n",
    "    realsense_calib = mp.Unpacker(f, object_hook=mpn.decode)\n",
    "    _temp = next(realsense_calib)\n",
    "    _realsense_cam_mat = _temp[0]\n",
    "    _realsense_dist = _temp[1]\n",
    "\n",
    "with open(_webcam_calib_pth, \"rb\") as f:\n",
    "    webcam_calib = mp.Unpacker(f, object_hook=mpn.decode)\n",
    "    _temp = next(webcam_calib)\n",
    "    _webcam_cam_mat = _temp[0]\n",
    "    _webcam_dist = _temp[1]\n",
    "\n",
    "# open rotation matrix and org\n",
    "with open(_kinect_rotmat_pth, \"rb\") as f:\n",
    "    kinect_rotmat = mp.Unpacker(f, object_hook=mpn.decode)\n",
    "    _kinect_rot = next(kinect_rotmat)\n",
    "    _kinect_org = next(kinect_rotmat)\n",
    "\n",
    "with open(_realsense_rotmat_pth, \"rb\") as f:\n",
    "    realsense_rotmat = mp.Unpacker(f, object_hook=mpn.decode)\n",
    "    _realsense_rot = next(realsense_rotmat)\n",
    "    _realsense_org = next(realsense_rotmat)\n",
    "    \n",
    "with open(_webcam_rotmat_pth, \"rb\") as f:\n",
    "    webcam_rotmat = mp.Unpacker(f, object_hook=mpn.decode)\n",
    "    _webcam_rot = next(webcam_rotmat)\n",
    "    _webcam_org = next(webcam_rotmat)"
   ]
  },
  {
   "cell_type": "code",
   "execution_count": 26,
   "metadata": {},
   "outputs": [
    {
     "name": "stdout",
     "output_type": "stream",
     "text": [
      "returning dataframe\n",
      "returning dataframe\n",
      "returning dataframe\n"
     ]
    }
   ],
   "source": [
    "_k_df = get_ar_pose_data(_kinect_video_pth, _kinect_cam_mat, _kinect_dist, is_color=False, single_file=True, flip_frame=True)\n",
    "_r_df = get_ar_pose_data(_realsense_video_pth, _realsense_cam_mat, _realsense_dist, is_color=False, single_file=True, flip_frame=False)\n",
    "_w_df = get_ar_pose_data(_webcam_video_pth, _webcam_cam_mat, _webcam_dist, is_color=False, single_file=True, flip_frame=True)"
   ]
  },
  {
   "cell_type": "code",
   "execution_count": null,
   "metadata": {},
   "outputs": [],
   "source": []
  },
  {
   "cell_type": "code",
   "execution_count": null,
   "metadata": {},
   "outputs": [],
   "source": []
  }
 ],
 "metadata": {
  "kernelspec": {
   "display_name": "Python 3.7.13 ('gs')",
   "language": "python",
   "name": "python3"
  },
  "language_info": {
   "codemirror_mode": {
    "name": "ipython",
    "version": 3
   },
   "file_extension": ".py",
   "mimetype": "text/x-python",
   "name": "python",
   "nbconvert_exporter": "python",
   "pygments_lexer": "ipython3",
   "version": "3.7.13"
  },
  "orig_nbformat": 4,
  "vscode": {
   "interpreter": {
    "hash": "4221670f905fea9ae63d68da118e10d2cad93a36a65c3325530da287d71e9aea"
   }
  }
 },
 "nbformat": 4,
 "nbformat_minor": 2
}
