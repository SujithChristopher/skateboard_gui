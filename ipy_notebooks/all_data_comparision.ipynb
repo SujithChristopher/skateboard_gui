{
 "cells": [
  {
   "cell_type": "code",
   "execution_count": 9,
   "metadata": {},
   "outputs": [],
   "source": [
    "import matplotlib.pyplot as plt\n",
    "import pandas as pd\n",
    "import numpy as np\n",
    "import msgpack as mp\n",
    "import msgpack_numpy as mpn\n",
    "import os\n",
    "import sys\n",
    "import cv2\n",
    "# directory reach\n",
    "directory = os.path.abspath('')\n",
    "append_path = os.path.dirname(directory) # go two folders up\n",
    "  \n",
    "# setting path\n",
    "sys.path.append(append_path)\n",
    "from cv2 import aruco\n",
    "\n",
    "from support.pd_support import *\n",
    "from support.calculations_support import *"
   ]
  },
  {
   "cell_type": "code",
   "execution_count": 10,
   "metadata": {},
   "outputs": [],
   "source": [
    "_pth = r\"C:\\Users\\CMC\\Dropbox\\mira\\mira_vellore\\splitVideos\\SUJIXXXXXXXXU010120000000XXXXXXXXX\\calibration\"\n",
    "\n",
    "calib_pth = os.path.join(_pth, \"AR_CALIBRATION.msgpack\")\n",
    "_calib_file = open(calib_pth, \"rb\")\n",
    "unpacker = mp.Unpacker(_calib_file, object_hook=mpn.decode)\n",
    "_calib = []\n",
    "for unpacked in unpacker:\n",
    "    _calib.append(unpacked)\n",
    "\n",
    "cameraMatrix = _calib[0][0]\n",
    "distCoeffs = _calib[0][1]\n"
   ]
  },
  {
   "cell_type": "code",
   "execution_count": 11,
   "metadata": {},
   "outputs": [],
   "source": [
    "# Constant parameters used in Aruco methods\n",
    "ARUCO_PARAMETERS = aruco.DetectorParameters_create()\n",
    "ARUCO_DICT = aruco.Dictionary_get(aruco.DICT_ARUCO_ORIGINAL)\n",
    "\n",
    "# Create grid board object we're using in our stream\n",
    "board = aruco.GridBoard_create(\n",
    "        markersX=1,\n",
    "        markersY=1,\n",
    "        markerLength=0.05,\n",
    "        markerSeparation=0.01,\n",
    "        dictionary=ARUCO_DICT)\n",
    "\n",
    "# Create vectors we'll be using for rotations and translations for postures\n",
    "rotation_vectors, translation_vectors = None, None\n",
    "axis = np.float32([[-.5,-.5,0], [-.5,.5,0], [.5,.5,0], [.5,-.5,0],\n",
    "                   [-.5,-.5,1],[-.5,.5,1],[.5,.5,1],[.5,-.5,1] ])"
   ]
  },
  {
   "cell_type": "code",
   "execution_count": 14,
   "metadata": {},
   "outputs": [
    {
     "ename": "error",
     "evalue": "OpenCV(4.5.3) C:\\Users\\runneradmin\\AppData\\Local\\Temp\\pip-req-build-_xlv4eex\\opencv\\modules\\imgproc\\src\\color.cpp:182: error: (-215:Assertion failed) !_src.empty() in function 'cv::cvtColor'\n",
     "output_type": "error",
     "traceback": [
      "\u001b[1;31m---------------------------------------------------------------------------\u001b[0m",
      "\u001b[1;31merror\u001b[0m                                     Traceback (most recent call last)",
      "\u001b[1;32m~\\AppData\\Local\\Temp/ipykernel_8452/2856362405.py\u001b[0m in \u001b[0;36m<module>\u001b[1;34m\u001b[0m\n\u001b[0;32m      6\u001b[0m \u001b[1;32mwhile\u001b[0m \u001b[0mcap\u001b[0m\u001b[1;33m.\u001b[0m\u001b[0misOpened\u001b[0m\u001b[1;33m(\u001b[0m\u001b[1;33m)\u001b[0m\u001b[1;33m:\u001b[0m\u001b[1;33m\u001b[0m\u001b[1;33m\u001b[0m\u001b[0m\n\u001b[0;32m      7\u001b[0m     \u001b[0mret\u001b[0m\u001b[1;33m,\u001b[0m \u001b[0mframe\u001b[0m \u001b[1;33m=\u001b[0m \u001b[0mcap\u001b[0m\u001b[1;33m.\u001b[0m\u001b[0mread\u001b[0m\u001b[1;33m(\u001b[0m\u001b[1;33m)\u001b[0m\u001b[1;33m\u001b[0m\u001b[1;33m\u001b[0m\u001b[0m\n\u001b[1;32m----> 8\u001b[1;33m     \u001b[0mgray\u001b[0m \u001b[1;33m=\u001b[0m \u001b[0mcv2\u001b[0m\u001b[1;33m.\u001b[0m\u001b[0mcvtColor\u001b[0m\u001b[1;33m(\u001b[0m\u001b[0mframe\u001b[0m\u001b[1;33m,\u001b[0m \u001b[0mcv2\u001b[0m\u001b[1;33m.\u001b[0m\u001b[0mCOLOR_BGR2GRAY\u001b[0m\u001b[1;33m)\u001b[0m\u001b[1;33m\u001b[0m\u001b[1;33m\u001b[0m\u001b[0m\n\u001b[0m\u001b[0;32m      9\u001b[0m     \u001b[1;32mif\u001b[0m \u001b[0mret\u001b[0m\u001b[1;33m:\u001b[0m\u001b[1;33m\u001b[0m\u001b[1;33m\u001b[0m\u001b[0m\n\u001b[0;32m     10\u001b[0m \u001b[1;33m\u001b[0m\u001b[0m\n",
      "\u001b[1;31merror\u001b[0m: OpenCV(4.5.3) C:\\Users\\runneradmin\\AppData\\Local\\Temp\\pip-req-build-_xlv4eex\\opencv\\modules\\imgproc\\src\\color.cpp:182: error: (-215:Assertion failed) !_src.empty() in function 'cv::cvtColor'\n"
     ]
    }
   ],
   "source": [
    "video_pth = os.path.join(_pth, \"Video.avi\")\n",
    "\n",
    "\n",
    "cap = cv2.VideoCapture(video_pth)\n",
    "count = 0\n",
    "while cap.isOpened():\n",
    "    ret, frame = cap.read()\n",
    "    gray = cv2.cvtColor(frame, cv2.COLOR_BGR2GRAY)\n",
    "    if ret:\n",
    "\n",
    "        corners, ids, rejectedImgPoints = aruco.detectMarkers(gray, ARUCO_DICT, parameters=ARUCO_PARAMETERS)\n",
    "  \n",
    "        # Refine detected markers\n",
    "        # Eliminates markers not part of our board, adds missing markers to the board\n",
    "        corners, ids, rejectedImgPoints, recoveredIds = aruco.refineDetectedMarkers(\n",
    "                image = gray,\n",
    "                board = board,\n",
    "                detectedCorners = corners,\n",
    "                detectedIds = ids,\n",
    "                rejectedCorners = rejectedImgPoints,\n",
    "                cameraMatrix = cameraMatrix,\n",
    "                distCoeffs = distCoeffs)\n",
    "\n",
    "        ProjectImage = aruco.drawDetectedMarkers(frame, corners, borderColor=(0, 0, 255))\n",
    "        cv2.imshow(\"frame\", ProjectImage)\n",
    "        if cv2.waitKey(1) & 0xFF == ord('q'):\n",
    "            break\n",
    "    else:\n",
    "        break\n",
    "cv2.destroyAllWindows()"
   ]
  },
  {
   "cell_type": "code",
   "execution_count": null,
   "metadata": {},
   "outputs": [],
   "source": []
  },
  {
   "cell_type": "code",
   "execution_count": null,
   "metadata": {},
   "outputs": [],
   "source": []
  }
 ],
 "metadata": {
  "kernelspec": {
   "display_name": "Python 3.7.11 ('py37t2')",
   "language": "python",
   "name": "python3"
  },
  "language_info": {
   "codemirror_mode": {
    "name": "ipython",
    "version": 3
   },
   "file_extension": ".py",
   "mimetype": "text/x-python",
   "name": "python",
   "nbconvert_exporter": "python",
   "pygments_lexer": "ipython3",
   "version": "3.7.11"
  },
  "orig_nbformat": 4,
  "vscode": {
   "interpreter": {
    "hash": "07cf8e4ec2f40bff32486e8c8f167870d55b0d1fe8557518ec615be206ad7cc6"
   }
  }
 },
 "nbformat": 4,
 "nbformat_minor": 2
}
