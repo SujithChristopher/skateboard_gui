{
 "cells": [
  {
   "cell_type": "code",
   "execution_count": 4,
   "metadata": {},
   "outputs": [],
   "source": [
    "import matplotlib.pyplot as plt\n",
    "import pandas as pd\n",
    "import numpy as np\n",
    "import msgpack as mp\n",
    "import msgpack_numpy as mpn\n",
    "import os\n",
    "import sys\n",
    "import cv2\n",
    "# directory reach\n",
    "directory = os.path.abspath('')\n",
    "append_path = os.path.dirname(directory) # go two folders up\n",
    "from pykinect2 import PyKinectRuntime\n",
    "from pykinect2 import PyKinectV2\n",
    "\n",
    "kinectColor = PyKinectRuntime.PyKinectRuntime(PyKinectV2.FrameSourceTypes_Color)\n",
    "\n",
    "  \n",
    "# setting path\n",
    "sys.path.append(append_path)\n",
    "from cv2 import aruco\n",
    "\n",
    "from support.pd_support import *\n",
    "from support.calculations_support import *\n",
    "from support.generate_ar_data import get_ar_pose_data"
   ]
  },
  {
   "cell_type": "code",
   "execution_count": null,
   "metadata": {},
   "outputs": [],
   "source": [
    "while True:\n",
    "    if kinectColor.has_new_color_frame():\n",
    "        color_frame = kinectColor.get_last_color_frame()\n",
    "        color_frame = np.reshape(color_frame, (1080, 1920, 4))\n",
    "        color_frame = cv2.flip(color_frame, 1)\n",
    "        break"
   ]
  },
  {
   "cell_type": "code",
   "execution_count": 5,
   "metadata": {},
   "outputs": [],
   "source": [
    "_pth = r\"C:\\Users\\CMC\\Dropbox\\mira\\mira_vellore\\splitVideos\\SUJIXXXXXXXXU010120000000XXXXXXXXX\\calibration\"\n",
    "\n",
    "calib_pth = os.path.join(_pth, \"AR_CALIBRATION.msgpack\")\n",
    "_calib_file = open(calib_pth, \"rb\")\n",
    "unpacker = mp.Unpacker(_calib_file, object_hook=mpn.decode)\n",
    "_calib = []\n",
    "for unpacked in unpacker:\n",
    "    _calib.append(unpacked)\n",
    "\n",
    "cameraMatrix = _calib[0][0]\n",
    "distCoeffs = _calib[0][1]\n",
    "\n",
    "\n"
   ]
  },
  {
   "cell_type": "code",
   "execution_count": 8,
   "metadata": {},
   "outputs": [
    {
     "name": "stdout",
     "output_type": "stream",
     "text": [
      "returning dataframe\n"
     ]
    }
   ],
   "source": [
    "_data_pth = r\"C:\\Users\\CMC\\Dropbox\\mira\\mira_vellore\\splitVideos\\SUJIXXXXXXXXU010120000000XXXXXXXXX\\test_trial_0\"\n",
    "df = get_ar_pose_data(_data_pth, cameraMatrix, distCoeffs, process_raw=True)"
   ]
  },
  {
   "cell_type": "code",
   "execution_count": 9,
   "metadata": {},
   "outputs": [
    {
     "data": {
      "text/html": [
       "<div>\n",
       "<style scoped>\n",
       "    .dataframe tbody tr th:only-of-type {\n",
       "        vertical-align: middle;\n",
       "    }\n",
       "\n",
       "    .dataframe tbody tr th {\n",
       "        vertical-align: top;\n",
       "    }\n",
       "\n",
       "    .dataframe thead th {\n",
       "        text-align: right;\n",
       "    }\n",
       "</style>\n",
       "<table border=\"1\" class=\"dataframe\">\n",
       "  <thead>\n",
       "    <tr style=\"text-align: right;\">\n",
       "      <th></th>\n",
       "      <th>frame_id</th>\n",
       "      <th>x</th>\n",
       "      <th>y</th>\n",
       "      <th>z</th>\n",
       "      <th>yaw</th>\n",
       "      <th>pitch</th>\n",
       "      <th>roll</th>\n",
       "    </tr>\n",
       "  </thead>\n",
       "  <tbody>\n",
       "    <tr>\n",
       "      <th>0</th>\n",
       "      <td>5.0</td>\n",
       "      <td>-0.043325</td>\n",
       "      <td>2.073002</td>\n",
       "      <td>20.779583</td>\n",
       "      <td>-0.051006</td>\n",
       "      <td>2.972120</td>\n",
       "      <td>0.625188</td>\n",
       "    </tr>\n",
       "    <tr>\n",
       "      <th>1</th>\n",
       "      <td>5.0</td>\n",
       "      <td>-0.043325</td>\n",
       "      <td>2.073002</td>\n",
       "      <td>20.779583</td>\n",
       "      <td>-0.051006</td>\n",
       "      <td>2.972120</td>\n",
       "      <td>0.625188</td>\n",
       "    </tr>\n",
       "    <tr>\n",
       "      <th>2</th>\n",
       "      <td>5.0</td>\n",
       "      <td>-0.043325</td>\n",
       "      <td>2.073002</td>\n",
       "      <td>20.779583</td>\n",
       "      <td>-0.051006</td>\n",
       "      <td>2.972120</td>\n",
       "      <td>0.625188</td>\n",
       "    </tr>\n",
       "    <tr>\n",
       "      <th>3</th>\n",
       "      <td>5.0</td>\n",
       "      <td>-0.043325</td>\n",
       "      <td>2.073002</td>\n",
       "      <td>20.779583</td>\n",
       "      <td>-0.051006</td>\n",
       "      <td>2.972120</td>\n",
       "      <td>0.625188</td>\n",
       "    </tr>\n",
       "    <tr>\n",
       "      <th>4</th>\n",
       "      <td>5.0</td>\n",
       "      <td>-0.049073</td>\n",
       "      <td>2.089439</td>\n",
       "      <td>21.002592</td>\n",
       "      <td>-0.034814</td>\n",
       "      <td>2.975741</td>\n",
       "      <td>0.560238</td>\n",
       "    </tr>\n",
       "    <tr>\n",
       "      <th>...</th>\n",
       "      <td>...</td>\n",
       "      <td>...</td>\n",
       "      <td>...</td>\n",
       "      <td>...</td>\n",
       "      <td>...</td>\n",
       "      <td>...</td>\n",
       "      <td>...</td>\n",
       "    </tr>\n",
       "    <tr>\n",
       "      <th>608</th>\n",
       "      <td>5.0</td>\n",
       "      <td>-0.963801</td>\n",
       "      <td>1.816900</td>\n",
       "      <td>21.152631</td>\n",
       "      <td>-0.072193</td>\n",
       "      <td>2.988333</td>\n",
       "      <td>0.666742</td>\n",
       "    </tr>\n",
       "    <tr>\n",
       "      <th>609</th>\n",
       "      <td>5.0</td>\n",
       "      <td>-0.983677</td>\n",
       "      <td>1.853618</td>\n",
       "      <td>21.589610</td>\n",
       "      <td>-0.104655</td>\n",
       "      <td>3.006473</td>\n",
       "      <td>0.531793</td>\n",
       "    </tr>\n",
       "    <tr>\n",
       "      <th>610</th>\n",
       "      <td>5.0</td>\n",
       "      <td>-0.963801</td>\n",
       "      <td>1.816900</td>\n",
       "      <td>21.152631</td>\n",
       "      <td>-0.072193</td>\n",
       "      <td>2.988333</td>\n",
       "      <td>0.666742</td>\n",
       "    </tr>\n",
       "    <tr>\n",
       "      <th>611</th>\n",
       "      <td>5.0</td>\n",
       "      <td>-0.963801</td>\n",
       "      <td>1.816900</td>\n",
       "      <td>21.152631</td>\n",
       "      <td>-0.072193</td>\n",
       "      <td>2.988333</td>\n",
       "      <td>0.666742</td>\n",
       "    </tr>\n",
       "    <tr>\n",
       "      <th>612</th>\n",
       "      <td>5.0</td>\n",
       "      <td>-0.963801</td>\n",
       "      <td>1.816900</td>\n",
       "      <td>21.152631</td>\n",
       "      <td>-0.072193</td>\n",
       "      <td>2.988333</td>\n",
       "      <td>0.666742</td>\n",
       "    </tr>\n",
       "  </tbody>\n",
       "</table>\n",
       "<p>613 rows × 7 columns</p>\n",
       "</div>"
      ],
      "text/plain": [
       "     frame_id         x         y          z       yaw     pitch      roll\n",
       "0         5.0 -0.043325  2.073002  20.779583 -0.051006  2.972120  0.625188\n",
       "1         5.0 -0.043325  2.073002  20.779583 -0.051006  2.972120  0.625188\n",
       "2         5.0 -0.043325  2.073002  20.779583 -0.051006  2.972120  0.625188\n",
       "3         5.0 -0.043325  2.073002  20.779583 -0.051006  2.972120  0.625188\n",
       "4         5.0 -0.049073  2.089439  21.002592 -0.034814  2.975741  0.560238\n",
       "..        ...       ...       ...        ...       ...       ...       ...\n",
       "608       5.0 -0.963801  1.816900  21.152631 -0.072193  2.988333  0.666742\n",
       "609       5.0 -0.983677  1.853618  21.589610 -0.104655  3.006473  0.531793\n",
       "610       5.0 -0.963801  1.816900  21.152631 -0.072193  2.988333  0.666742\n",
       "611       5.0 -0.963801  1.816900  21.152631 -0.072193  2.988333  0.666742\n",
       "612       5.0 -0.963801  1.816900  21.152631 -0.072193  2.988333  0.666742\n",
       "\n",
       "[613 rows x 7 columns]"
      ]
     },
     "execution_count": 9,
     "metadata": {},
     "output_type": "execute_result"
    }
   ],
   "source": [
    "df"
   ]
  },
  {
   "cell_type": "code",
   "execution_count": 14,
   "metadata": {},
   "outputs": [
    {
     "data": {
      "text/plain": [
       "[<matplotlib.lines.Line2D at 0x11208585388>]"
      ]
     },
     "execution_count": 14,
     "metadata": {},
     "output_type": "execute_result"
    },
    {
     "data": {
      "image/png": "[encoded data removed]",
      "text/plain": [
       "<Figure size 432x288 with 1 Axes>"
      ]
     },
     "metadata": {
      "needs_background": "light"
     },
     "output_type": "display_data"
    }
   ],
   "source": [
    "plt.plot(df['y'])"
   ]
  },
  {
   "cell_type": "code",
   "execution_count": null,
   "metadata": {},
   "outputs": [],
   "source": []
  }
 ],
 "metadata": {
  "kernelspec": {
   "display_name": "Python 3.7.11 ('py37t2')",
   "language": "python",
   "name": "python3"
  },
  "language_info": {
   "codemirror_mode": {
    "name": "ipython",
    "version": 3
   },
   "file_extension": ".py",
   "mimetype": "text/x-python",
   "name": "python",
   "nbconvert_exporter": "python",
   "pygments_lexer": "ipython3",
   "version": "3.7.11"
  },
  "orig_nbformat": 4,
  "vscode": {
   "interpreter": {
    "hash": "07cf8e4ec2f40bff32486e8c8f167870d55b0d1fe8557518ec615be206ad7cc6"
   }
  }
 },
 "nbformat": 4,
 "nbformat_minor": 2
}
