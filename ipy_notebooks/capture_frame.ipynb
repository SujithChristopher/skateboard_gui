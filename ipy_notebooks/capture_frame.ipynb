{
 "cells": [
  {
   "cell_type": "code",
   "execution_count": 1,
   "metadata": {},
   "outputs": [],
   "source": [
    "from pykinect2 import PyKinectRuntime\n",
    "from pykinect2 import PyKinectV2\n",
    "import numpy as np\n",
    "import cv2\n",
    "import matplotlib.pyplot as plt"
   ]
  },
  {
   "cell_type": "code",
   "execution_count": 2,
   "metadata": {},
   "outputs": [
    {
     "data": {
      "text/plain": [
       "736"
      ]
     },
     "execution_count": 2,
     "metadata": {},
     "output_type": "execute_result"
    }
   ],
   "source": [
    "\n",
    "yPos = 112\n",
    "xPos = 274\n",
    "\n",
    "yRes = 736\n",
    "xRes = 864\n",
    "scalling = 2\n",
    "yRes"
   ]
  },
  {
   "cell_type": "code",
   "execution_count": 3,
   "metadata": {},
   "outputs": [
    {
     "data": {
      "text/plain": [
       "<matplotlib.image.AxesImage at 0x296ea2ae848>"
      ]
     },
     "execution_count": 3,
     "metadata": {},
     "output_type": "execute_result"
    },
    {
     "data": {
      "image/png": "[encoded data removed]",
      "text/plain": [
       "<Figure size 432x288 with 1 Axes>"
      ]
     },
     "metadata": {
      "needs_background": "light"
     },
     "output_type": "display_data"
    }
   ],
   "source": [
    "kinectColor = PyKinectRuntime.PyKinectRuntime(PyKinectV2.FrameSourceTypes_Color)\n",
    "while True:\n",
    "    if kinectColor.has_new_color_frame:\n",
    "        color_frame = kinectColor.get_last_color_frame()\n",
    "        color_frame = np.reshape(color_frame, (1080, 1920, 4))\n",
    "        color_frame = cv2.flip(color_frame, 1)\n",
    "        color_frame = color_frame[yPos * scalling:yPos * scalling + yRes,\n",
    "                         xPos * scalling:xPos * scalling + xRes].copy()\n",
    "        break\n",
    "plt.imshow(color_frame)"
   ]
  },
  {
   "cell_type": "code",
   "execution_count": 4,
   "metadata": {},
   "outputs": [],
   "source": [
    "# print(color_frame)"
   ]
  },
  {
   "cell_type": "code",
   "execution_count": null,
   "metadata": {},
   "outputs": [],
   "source": []
  }
 ],
 "metadata": {
  "kernelspec": {
   "display_name": "Python 3.7.11 ('py37t2')",
   "language": "python",
   "name": "python3"
  },
  "language_info": {
   "codemirror_mode": {
    "name": "ipython",
    "version": 3
   },
   "file_extension": ".py",
   "mimetype": "text/x-python",
   "name": "python",
   "nbconvert_exporter": "python",
   "pygments_lexer": "ipython3",
   "version": "3.7.11"
  },
  "orig_nbformat": 4,
  "vscode": {
   "interpreter": {
    "hash": "07cf8e4ec2f40bff32486e8c8f167870d55b0d1fe8557518ec615be206ad7cc6"
   }
  }
 },
 "nbformat": 4,
 "nbformat_minor": 2
}
