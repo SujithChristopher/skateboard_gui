{
 "cells": [
  {
   "cell_type": "code",
   "execution_count": 9,
   "metadata": {},
   "outputs": [],
   "source": [
    "import matplotlib.pyplot as plt\n",
    "import pandas as pd\n",
    "import numpy as np\n",
    "import msgpack as mp\n",
    "import msgpack_numpy as mpn\n",
    "import os\n",
    "import sys\n",
    "import cv2\n",
    "import glob\n",
    "# directory reach\n",
    "import pickle\n",
    "\n",
    "sys.path.insert(0, os.path.abspath(os.path.join(os.getcwd(), '..')))\n",
    "from support.ar_calculations import calculate_rotmat\n",
    "from support.detect_lframe import detect_lframe_from_img\n",
    "from support.pymf import get_MF_devices as get_camera_list\n",
    "\n",
    "_folder_name = \"calibration7\""
   ]
  },
  {
   "cell_type": "code",
   "execution_count": 10,
   "metadata": {},
   "outputs": [],
   "source": [
    "def calculate_rotmat_from_3markers(corners, ids, camera_matrix, dist_coeffs, marker_length = 0.05):\n",
    "\n",
    "    rotation_vector, translation_vector, _ = cv2.aruco.estimatePoseSingleMarkers(corners, marker_length, camera_matrix, dist_coeffs)\n",
    "\n",
    "    ids = list(ids)\n",
    "\n",
    "    z_inx = ids.index(6)\n",
    "    org_inx = ids.index(9)\n",
    "    x_inx = ids.index(10)\n",
    "    print(z_inx, org_inx, x_inx)\n",
    "\n",
    "    zvec = translation_vector[z_inx][0]\n",
    "    zvec = np.reshape(zvec, (3, 1))\n",
    "    org = translation_vector[org_inx][0] \n",
    "    org = np.reshape(org, (3, 1))\n",
    "    xvec = translation_vector[x_inx][0]\n",
    "    xvec = np.reshape(xvec, (3, 1))\n",
    "\n",
    "\n",
    "    translation_vector\n",
    "    zvec\n",
    "    rotMat = calculate_rotmat(xvec, zvec, org)\n",
    "\n",
    "    translation_correction = np.array([0.045, -0.05, 0.045]).reshape(3, 1) # adding the corrections in the new L frame\n",
    "    \n",
    "    t_zvec = zvec - org \n",
    "    t_xvec = xvec - org\n",
    "\n",
    "    rotMat.T@t_xvec + translation_correction\n",
    "    \n",
    "    print(rotMat.T@t_xvec, \"this is t_xvec\")\n",
    "    print(rotMat.T@t_zvec, \"this is t_zvec\")\n",
    "    return rotMat, org"
   ]
  },
  {
   "cell_type": "code",
   "execution_count": 11,
   "metadata": {},
   "outputs": [
    {
     "data": {
      "text/plain": [
       "'c:\\\\Users\\\\Sujith\\\\Documents\\\\Projects\\\\skateboard_gui\\\\recording_programs\\\\test_data\\\\single_cam_oct_7\\\\calibration7'"
      ]
     },
     "execution_count": 11,
     "metadata": {},
     "output_type": "execute_result"
    }
   ],
   "source": [
    "\"\"\"pth to calibration files\"\"\"\n",
    "_pth = os.path.join(os.path.dirname(os.getcwd()), \"recording_programs\",\"test_data\", \"single_cam_oct_7\",_folder_name)\n",
    "_pth"
   ]
  },
  {
   "cell_type": "code",
   "execution_count": 12,
   "metadata": {},
   "outputs": [
    {
     "data": {
      "text/plain": [
       "array([[194, 194, 194, ..., 211, 211, 211],\n",
       "       [194, 194, 194, ..., 211, 211, 211],\n",
       "       [194, 194, 194, ..., 211, 211, 211],\n",
       "       ...,\n",
       "       [124, 124, 124, ..., 154, 154, 154],\n",
       "       [124, 124, 124, ..., 156, 156, 156],\n",
       "       [124, 124, 124, ..., 156, 156, 156]], dtype=uint8)"
      ]
     },
     "execution_count": 12,
     "metadata": {},
     "output_type": "execute_result"
    }
   ],
   "source": [
    "\"\"\"save image in msgpack format\"\"\"\n",
    "\n",
    "_webcam_frame_file = os.path.join(_pth, \"webcam_frame.msgpack\")\n",
    "with open(_webcam_frame_file, \"rb\") as f:\n",
    "    _f = mp.load(f, object_hook=mpn.decode)\n",
    "_f"
   ]
  },
  {
   "cell_type": "code",
   "execution_count": 13,
   "metadata": {},
   "outputs": [
    {
     "name": "stdout",
     "output_type": "stream",
     "text": [
      "0 2 1\n",
      "[[0.16397724]\n",
      " [0.        ]\n",
      " [0.        ]] this is t_xvec\n",
      "[[0.08140614]\n",
      " [0.        ]\n",
      " [0.20939933]] this is t_zvec\n"
     ]
    }
   ],
   "source": [
    "\"\"\"for webcam calculating rotmat\"\"\"\n",
    "_webcam_calib_file = os.path.join(_pth, \"webcam_calibration.msgpack\")\n",
    "corners, ids, _ = detect_lframe_from_img(_f)\n",
    "with open(_webcam_calib_file, \"rb\") as f:\n",
    "    webcam_calib = mp.load(f, object_hook=mpn.decode)\n",
    "    w_camera_matrix = webcam_calib[0]\n",
    "    w_dist_coeffs = webcam_calib[1]\n",
    "\n",
    "w_rotmat, w_org = calculate_rotmat_from_3markers(corners, ids, marker_length=0.05, camera_matrix=w_camera_matrix, dist_coeffs=w_dist_coeffs)\n"
   ]
  },
  {
   "cell_type": "code",
   "execution_count": null,
   "metadata": {},
   "outputs": [],
   "source": [
    "#save to path\n",
    "_webcam_rotmat_file = os.path.join(_pth, \"webcam_rotmat.msgpack\")\n",
    "with open(_webcam_rotmat_file, \"wb\") as f:\n",
    "    _rt_packed = mp.packb(w_rotmat, default=mpn.encode)\n",
    "    _org_packed = mp.packb(w_org, default=mpn.encode)\n",
    "    f.write(_rt_packed)\n",
    "    f.write(_org_packed)\n",
    "    f.close()"
   ]
  }
 ],
 "metadata": {
  "kernelspec": {
   "display_name": "Python 3.7.11 ('mira')",
   "language": "python",
   "name": "python3"
  },
  "language_info": {
   "codemirror_mode": {
    "name": "ipython",
    "version": 3
   },
   "file_extension": ".py",
   "mimetype": "text/x-python",
   "name": "python",
   "nbconvert_exporter": "python",
   "pygments_lexer": "ipython3",
   "version": "3.7.11"
  },
  "orig_nbformat": 4,
  "vscode": {
   "interpreter": {
    "hash": "5e150188acfe9ffecc9060698e0419ffeeaf23b924b6dc14c3c2ca6e878e68e6"
   }
  }
 },
 "nbformat": 4,
 "nbformat_minor": 2
}
