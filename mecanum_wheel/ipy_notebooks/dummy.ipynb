{
 "cells": [
  {
   "cell_type": "code",
   "execution_count": 6,
   "metadata": {},
   "outputs": [],
   "source": [
    "import pandas as pd\n",
    "# from pd_support import *\n",
    "from datetime import datetime, timedelta"
   ]
  },
  {
   "cell_type": "code",
   "execution_count": 1,
   "metadata": {},
   "outputs": [],
   "source": [
    "pth = r\"C:\\Users\\CMC\\Documents\\MoCap takes\\Mecanum_cart\\test_trial_0.csv\""
   ]
  },
  {
   "cell_type": "code",
   "execution_count": 7,
   "metadata": {},
   "outputs": [
    {
     "ename": "IndexError",
     "evalue": "list index out of range",
     "output_type": "error",
     "traceback": [
      "\u001b[1;31m---------------------------------------------------------------------------\u001b[0m",
      "\u001b[1;31mIndexError\u001b[0m                                Traceback (most recent call last)",
      "\u001b[1;32m~\\AppData\\Local\\Temp/ipykernel_18892/3207440430.py\u001b[0m in \u001b[0;36m<module>\u001b[1;34m\u001b[0m\n\u001b[0;32m     12\u001b[0m \u001b[0mcol_names\u001b[0m \u001b[1;33m=\u001b[0m \u001b[1;33m[\u001b[0m\u001b[1;33m]\u001b[0m\u001b[1;33m\u001b[0m\u001b[1;33m\u001b[0m\u001b[0m\n\u001b[0;32m     13\u001b[0m \u001b[1;32mfor\u001b[0m \u001b[0mi\u001b[0m \u001b[1;32min\u001b[0m \u001b[0mrange\u001b[0m\u001b[1;33m(\u001b[0m\u001b[1;36m0\u001b[0m\u001b[1;33m,\u001b[0m \u001b[0mlen\u001b[0m\u001b[1;33m(\u001b[0m\u001b[0mmarkers_raw\u001b[0m\u001b[1;33m)\u001b[0m\u001b[1;33m,\u001b[0m \u001b[1;36m3\u001b[0m\u001b[1;33m)\u001b[0m\u001b[1;33m:\u001b[0m\u001b[1;33m\u001b[0m\u001b[1;33m\u001b[0m\u001b[0m\n\u001b[1;32m---> 14\u001b[1;33m     \u001b[0mcol_names\u001b[0m\u001b[1;33m.\u001b[0m\u001b[0mappend\u001b[0m\u001b[1;33m(\u001b[0m\u001b[0mmarkers_raw\u001b[0m\u001b[1;33m[\u001b[0m\u001b[0mi\u001b[0m\u001b[1;33m]\u001b[0m\u001b[1;33m.\u001b[0m\u001b[0msplit\u001b[0m\u001b[1;33m(\u001b[0m\u001b[1;34m\":\"\u001b[0m\u001b[1;33m)\u001b[0m\u001b[1;33m[\u001b[0m\u001b[1;36m1\u001b[0m\u001b[1;33m]\u001b[0m\u001b[1;33m)\u001b[0m\u001b[1;33m\u001b[0m\u001b[1;33m\u001b[0m\u001b[0m\n\u001b[0m\u001b[0;32m     15\u001b[0m \u001b[1;33m\u001b[0m\u001b[0m\n\u001b[0;32m     16\u001b[0m \u001b[0mdf_headers\u001b[0m \u001b[1;33m=\u001b[0m \u001b[1;33m[\u001b[0m\u001b[1;34m\"frame\"\u001b[0m\u001b[1;33m,\u001b[0m \u001b[1;34m\"seconds\"\u001b[0m\u001b[1;33m]\u001b[0m\u001b[1;33m\u001b[0m\u001b[1;33m\u001b[0m\u001b[0m\n",
      "\u001b[1;31mIndexError\u001b[0m: list index out of range"
     ]
    }
   ],
   "source": [
    "offset = 2\n",
    "raw = pd.read_csv(pth)\n",
    "cols_list = raw.columns     # first row which contains capture start time\n",
    "inx = [i for i, x in enumerate(cols_list) if x == \"Capture Start Time\"]\n",
    "st_time = cols_list[inx[0] + 1]\n",
    "st_time = datetime.strptime(st_time, \"%Y-%m-%d %I.%M.%S.%f %p\")  # returns datetime object\n",
    "\n",
    "mr_inx = pd.read_csv(pth, skiprows=3)\n",
    "markers_raw = mr_inx.columns\n",
    "marker_offset = offset  # for ignoring time and frame cols\n",
    "markers_raw = markers_raw[marker_offset:]\n",
    "col_names = []\n",
    "for i in range(0, len(markers_raw), 3):\n",
    "    col_names.append(markers_raw[i].split(\":\")[1])\n",
    "\n",
    "df_headers = [\"frame\", \"seconds\"]\n",
    "for i in col_names:\n",
    "    df_headers.append(i + \"_x\")\n",
    "    df_headers.append(i + \"_y\")\n",
    "    df_headers.append(i + \"_z\")\n",
    "mo_data = pd.read_csv(pth, skiprows=6)\n",
    "# mo_data = mo_data.rename(mo_data.columns, df_headers)\n",
    "mo_data.columns = df_headers"
   ]
  },
  {
   "cell_type": "code",
   "execution_count": 9,
   "metadata": {},
   "outputs": [
    {
     "data": {
      "text/plain": [
       "Index(['Mobbo_new:BL', 'Mobbo_new:BL.1', 'Mobbo_new:BL.2', 'Mobbo_new:BR',\n",
       "       'Mobbo_new:BR.1', 'Mobbo_new:BR.2', 'Mobbo_new:TL', 'Mobbo_new:TL.1',\n",
       "       'Mobbo_new:TL.2', 'Mobbo_new:TR', 'Mobbo_new:TR.1', 'Mobbo_new:TR.2',\n",
       "       'Mobbo_new:WBL', 'Mobbo_new:WBL.1', 'Mobbo_new:WBL.2', 'Mobbo_new:WBR',\n",
       "       'Mobbo_new:WBR.1', 'Mobbo_new:WBR.2', 'Mobbo_new:WTL',\n",
       "       'Mobbo_new:WTL.1', 'Mobbo_new:WTL.2', 'Mobbo_new:WTR',\n",
       "       'Mobbo_new:WTR.1', 'Mobbo_new:WTR.2', 'Unlabeled 1025',\n",
       "       'Unlabeled 1025.1', 'Unlabeled 1025.2', 'Unlabeled 1027',\n",
       "       'Unlabeled 1027.1', 'Unlabeled 1027.2', 'Unlabeled 1028',\n",
       "       'Unlabeled 1028.1', 'Unlabeled 1028.2'],\n",
       "      dtype='object')"
      ]
     },
     "execution_count": 9,
     "metadata": {},
     "output_type": "execute_result"
    }
   ],
   "source": [
    "markers_raw"
   ]
  },
  {
   "cell_type": "code",
   "execution_count": 5,
   "metadata": {},
   "outputs": [
    {
     "ename": "IndexError",
     "evalue": "list index out of range",
     "output_type": "error",
     "traceback": [
      "\u001b[1;31m---------------------------------------------------------------------------\u001b[0m",
      "\u001b[1;31mIndexError\u001b[0m                                Traceback (most recent call last)",
      "\u001b[1;32m~\\AppData\\Local\\Temp/ipykernel_18892/81730834.py\u001b[0m in \u001b[0;36m<module>\u001b[1;34m\u001b[0m\n\u001b[1;32m----> 1\u001b[1;33m \u001b[0mmc\u001b[0m\u001b[1;33m,\u001b[0m \u001b[0mmc_t\u001b[0m \u001b[1;33m=\u001b[0m \u001b[0mread_df_csv\u001b[0m\u001b[1;33m(\u001b[0m\u001b[0mpth\u001b[0m\u001b[1;33m)\u001b[0m\u001b[1;33m\u001b[0m\u001b[1;33m\u001b[0m\u001b[0m\n\u001b[0m",
      "\u001b[1;32mc:\\Users\\CMC\\Documents\\openposelibs\\pose\\test\\MIRA\\imu_services\\mecanum_wheel\\ipy_notebooks\\pd_support.py\u001b[0m in \u001b[0;36mread_df_csv\u001b[1;34m(filename, offset)\u001b[0m\n\u001b[0;32m     31\u001b[0m     \u001b[0mcol_names\u001b[0m \u001b[1;33m=\u001b[0m \u001b[1;33m[\u001b[0m\u001b[1;33m]\u001b[0m\u001b[1;33m\u001b[0m\u001b[1;33m\u001b[0m\u001b[0m\n\u001b[0;32m     32\u001b[0m     \u001b[1;32mfor\u001b[0m \u001b[0mi\u001b[0m \u001b[1;32min\u001b[0m \u001b[0mrange\u001b[0m\u001b[1;33m(\u001b[0m\u001b[1;36m0\u001b[0m\u001b[1;33m,\u001b[0m \u001b[0mlen\u001b[0m\u001b[1;33m(\u001b[0m\u001b[0mmarkers_raw\u001b[0m\u001b[1;33m)\u001b[0m\u001b[1;33m,\u001b[0m \u001b[1;36m3\u001b[0m\u001b[1;33m)\u001b[0m\u001b[1;33m:\u001b[0m\u001b[1;33m\u001b[0m\u001b[1;33m\u001b[0m\u001b[0m\n\u001b[1;32m---> 33\u001b[1;33m         \u001b[0mcol_names\u001b[0m\u001b[1;33m.\u001b[0m\u001b[0mappend\u001b[0m\u001b[1;33m(\u001b[0m\u001b[0mmarkers_raw\u001b[0m\u001b[1;33m[\u001b[0m\u001b[0mi\u001b[0m\u001b[1;33m]\u001b[0m\u001b[1;33m.\u001b[0m\u001b[0msplit\u001b[0m\u001b[1;33m(\u001b[0m\u001b[1;34m\":\"\u001b[0m\u001b[1;33m)\u001b[0m\u001b[1;33m[\u001b[0m\u001b[1;36m1\u001b[0m\u001b[1;33m]\u001b[0m\u001b[1;33m)\u001b[0m\u001b[1;33m\u001b[0m\u001b[1;33m\u001b[0m\u001b[0m\n\u001b[0m\u001b[0;32m     34\u001b[0m \u001b[1;33m\u001b[0m\u001b[0m\n\u001b[0;32m     35\u001b[0m     \u001b[0mdf_headers\u001b[0m \u001b[1;33m=\u001b[0m \u001b[1;33m[\u001b[0m\u001b[1;34m\"frame\"\u001b[0m\u001b[1;33m,\u001b[0m \u001b[1;34m\"seconds\"\u001b[0m\u001b[1;33m]\u001b[0m\u001b[1;33m\u001b[0m\u001b[1;33m\u001b[0m\u001b[0m\n",
      "\u001b[1;31mIndexError\u001b[0m: list index out of range"
     ]
    }
   ],
   "source": [
    "mc, mc_t = read_df_csv(pth)"
   ]
  },
  {
   "cell_type": "code",
   "execution_count": null,
   "metadata": {},
   "outputs": [],
   "source": []
  }
 ],
 "metadata": {
  "kernelspec": {
   "display_name": "Python 3.7.11 ('py37t2')",
   "language": "python",
   "name": "python3"
  },
  "language_info": {
   "codemirror_mode": {
    "name": "ipython",
    "version": 3
   },
   "file_extension": ".py",
   "mimetype": "text/x-python",
   "name": "python",
   "nbconvert_exporter": "python",
   "pygments_lexer": "ipython3",
   "version": "3.7.11"
  },
  "orig_nbformat": 4,
  "vscode": {
   "interpreter": {
    "hash": "07cf8e4ec2f40bff32486e8c8f167870d55b0d1fe8557518ec615be206ad7cc6"
   }
  }
 },
 "nbformat": 4,
 "nbformat_minor": 2
}
