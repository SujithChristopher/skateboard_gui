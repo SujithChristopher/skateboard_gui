{
 "cells": [
  {
   "cell_type": "code",
   "execution_count": 73,
   "outputs": [],
   "source": [
    "import matplotlib.pyplot as plt\n",
    "import numpy as np\n",
    "import pandas as pd\n",
    "from datetime import datetime, timedelta\n",
    "import scipy\n",
    "from scipy.spatial.transform import Rotation as R"
   ],
   "metadata": {
    "collapsed": false,
    "pycharm": {
     "name": "#%%\n"
    }
   }
  },
  {
   "cell_type": "code",
   "execution_count": 74,
   "outputs": [],
   "source": [
    "cart_df = pd.read_csv(\"..//wheel_cart_teensy_2.csv\")"
   ],
   "metadata": {
    "collapsed": false,
    "pycharm": {
     "name": "#%%\n"
    }
   }
  },
  {
   "cell_type": "code",
   "execution_count": 75,
   "outputs": [
    {
     "data": {
      "text/plain": "                        sys_time  e_fr  e_fl  e_rr  e_rl\n0     2022-06-13 16:30:30.787358 -1483   703   240 -1409\n1     2022-06-13 16:30:31.018461 -1483   703   240 -1409\n2     2022-06-13 16:30:31.018461 -1483   703   240 -1409\n3     2022-06-13 16:30:31.018961 -1483   703   240 -1409\n4     2022-06-13 16:30:31.018961 -1483   703   240 -1409\n...                          ...   ...   ...   ...   ...\n7205  2022-06-13 16:31:35.734001 -3460   572  -832 -3452\n7206  2022-06-13 16:31:35.734001 -3460   572  -832 -3452\n7207  2022-06-13 16:31:35.734001 -3460   572  -832 -3452\n7208  2022-06-13 16:31:35.734501 -3460   572  -832 -3452\n7209  2022-06-13 16:31:35.734501 -3460   572  -832 -3452\n\n[7210 rows x 5 columns]",
      "text/html": "<div>\n<style scoped>\n    .dataframe tbody tr th:only-of-type {\n        vertical-align: middle;\n    }\n\n    .dataframe tbody tr th {\n        vertical-align: top;\n    }\n\n    .dataframe thead th {\n        text-align: right;\n    }\n</style>\n<table border=\"1\" class=\"dataframe\">\n  <thead>\n    <tr style=\"text-align: right;\">\n      <th></th>\n      <th>sys_time</th>\n      <th>e_fr</th>\n      <th>e_fl</th>\n      <th>e_rr</th>\n      <th>e_rl</th>\n    </tr>\n  </thead>\n  <tbody>\n    <tr>\n      <th>0</th>\n      <td>2022-06-13 16:30:30.787358</td>\n      <td>-1483</td>\n      <td>703</td>\n      <td>240</td>\n      <td>-1409</td>\n    </tr>\n    <tr>\n      <th>1</th>\n      <td>2022-06-13 16:30:31.018461</td>\n      <td>-1483</td>\n      <td>703</td>\n      <td>240</td>\n      <td>-1409</td>\n    </tr>\n    <tr>\n      <th>2</th>\n      <td>2022-06-13 16:30:31.018461</td>\n      <td>-1483</td>\n      <td>703</td>\n      <td>240</td>\n      <td>-1409</td>\n    </tr>\n    <tr>\n      <th>3</th>\n      <td>2022-06-13 16:30:31.018961</td>\n      <td>-1483</td>\n      <td>703</td>\n      <td>240</td>\n      <td>-1409</td>\n    </tr>\n    <tr>\n      <th>4</th>\n      <td>2022-06-13 16:30:31.018961</td>\n      <td>-1483</td>\n      <td>703</td>\n      <td>240</td>\n      <td>-1409</td>\n    </tr>\n    <tr>\n      <th>...</th>\n      <td>...</td>\n      <td>...</td>\n      <td>...</td>\n      <td>...</td>\n      <td>...</td>\n    </tr>\n    <tr>\n      <th>7205</th>\n      <td>2022-06-13 16:31:35.734001</td>\n      <td>-3460</td>\n      <td>572</td>\n      <td>-832</td>\n      <td>-3452</td>\n    </tr>\n    <tr>\n      <th>7206</th>\n      <td>2022-06-13 16:31:35.734001</td>\n      <td>-3460</td>\n      <td>572</td>\n      <td>-832</td>\n      <td>-3452</td>\n    </tr>\n    <tr>\n      <th>7207</th>\n      <td>2022-06-13 16:31:35.734001</td>\n      <td>-3460</td>\n      <td>572</td>\n      <td>-832</td>\n      <td>-3452</td>\n    </tr>\n    <tr>\n      <th>7208</th>\n      <td>2022-06-13 16:31:35.734501</td>\n      <td>-3460</td>\n      <td>572</td>\n      <td>-832</td>\n      <td>-3452</td>\n    </tr>\n    <tr>\n      <th>7209</th>\n      <td>2022-06-13 16:31:35.734501</td>\n      <td>-3460</td>\n      <td>572</td>\n      <td>-832</td>\n      <td>-3452</td>\n    </tr>\n  </tbody>\n</table>\n<p>7210 rows × 5 columns</p>\n</div>"
     },
     "execution_count": 75,
     "metadata": {},
     "output_type": "execute_result"
    }
   ],
   "source": [
    "cart_df"
   ],
   "metadata": {
    "collapsed": false,
    "pycharm": {
     "name": "#%%\n"
    }
   }
  },
  {
   "cell_type": "code",
   "execution_count": 76,
   "outputs": [],
   "source": [
    "mc = pd.read_csv(\"..//mocap_data.csv\", skiprows=6)"
   ],
   "metadata": {
    "collapsed": false,
    "pycharm": {
     "name": "#%%\n"
    }
   }
  },
  {
   "cell_type": "code",
   "execution_count": 77,
   "outputs": [
    {
     "data": {
      "text/plain": "datetime.datetime(2022, 6, 13, 16, 30, 34, 576000)"
     },
     "execution_count": 77,
     "metadata": {},
     "output_type": "execute_result"
    }
   ],
   "source": [
    "st_time_mc = \"2022-06-13 04.30.34.576 PM\"\n",
    "mc_dt = datetime.strptime(st_time_mc, \"%Y-%m-%d %I.%M.%S.%f %p\")\n",
    "mc_dt"
   ],
   "metadata": {
    "collapsed": false,
    "pycharm": {
     "name": "#%%\n"
    }
   }
  },
  {
   "cell_type": "code",
   "execution_count": 78,
   "outputs": [],
   "source": [
    "mc = mc.rename(columns={\"Time (Seconds)\":\"seconds\"})"
   ],
   "metadata": {
    "collapsed": false,
    "pycharm": {
     "name": "#%%\n"
    }
   }
  },
  {
   "cell_type": "code",
   "execution_count": 79,
   "outputs": [],
   "source": [
    "_t = []\n",
    "for i in list(mc[\"seconds\"]):\n",
    "    _t.append(mc_dt + timedelta(0,i))\n",
    "\n",
    "mc[\"time\"] = _t"
   ],
   "metadata": {
    "collapsed": false,
    "pycharm": {
     "name": "#%%\n"
    }
   }
  },
  {
   "cell_type": "code",
   "execution_count": 80,
   "outputs": [
    {
     "data": {
      "text/plain": "      Frame  seconds  center_x  center_y  center_z     org_x     org_y  \\\n0         0     0.00  0.003236  0.067702 -0.139123 -0.037691  0.065555   \n1         1     0.01  0.003246  0.067713 -0.139121 -0.037848  0.065173   \n2         2     0.02  0.003251  0.067696 -0.139129 -0.037697  0.065541   \n3         3     0.03  0.003240  0.067709 -0.139121 -0.037702  0.065550   \n4         4     0.04  0.003244  0.067717 -0.139121 -0.037855  0.065084   \n...     ...      ...       ...       ...       ...       ...       ...   \n9254   9254    92.54  0.039232  0.071813  0.051145 -0.001136  0.068630   \n9255   9255    92.55  0.039225  0.071808  0.051153 -0.001097  0.068626   \n9256   9256    92.56  0.039230  0.071796  0.051143 -0.001104  0.068610   \n9257   9257    92.57  0.039229  0.071813  0.051151 -0.001111  0.068638   \n9258   9258    92.58  0.039221  0.071813  0.051146 -0.001122  0.068638   \n\n         org_z    xvec_x    xvec_y    xvec_z    zvec_x    zvec_y    zvec_z  \\\n0    -0.203663  0.040555  0.064554 -0.203653 -0.039944  0.067606 -0.075845   \n1    -0.203597  0.040547  0.064546 -0.203648 -0.039949  0.067603 -0.075850   \n2    -0.203672  0.040666  0.064750 -0.203737 -0.039946  0.067590 -0.075851   \n3    -0.203678  0.040547  0.064553 -0.203648 -0.039948  0.067594 -0.075842   \n4    -0.203598  0.040558  0.064545 -0.203640 -0.039948  0.067595 -0.075849   \n...        ...       ...       ...       ...       ...       ...       ...   \n9254 -0.014420  0.077186  0.068300 -0.012831 -0.005280  0.070822  0.113676   \n9255 -0.014390  0.077171  0.068299 -0.012826 -0.005282  0.070847  0.113693   \n9256 -0.014394  0.077188  0.068304 -0.012824 -0.005281  0.070832  0.113681   \n9257 -0.014422  0.077169  0.068288 -0.012831 -0.005277  0.070810  0.113667   \n9258 -0.014413  0.077175  0.068302 -0.012825 -0.005279  0.070820  0.113678   \n\n                        time  \n0    2022-06-13 16:30:34.576  \n1    2022-06-13 16:30:34.586  \n2    2022-06-13 16:30:34.596  \n3    2022-06-13 16:30:34.606  \n4    2022-06-13 16:30:34.616  \n...                      ...  \n9254 2022-06-13 16:32:07.116  \n9255 2022-06-13 16:32:07.126  \n9256 2022-06-13 16:32:07.136  \n9257 2022-06-13 16:32:07.146  \n9258 2022-06-13 16:32:07.156  \n\n[9259 rows x 15 columns]",
      "text/html": "<div>\n<style scoped>\n    .dataframe tbody tr th:only-of-type {\n        vertical-align: middle;\n    }\n\n    .dataframe tbody tr th {\n        vertical-align: top;\n    }\n\n    .dataframe thead th {\n        text-align: right;\n    }\n</style>\n<table border=\"1\" class=\"dataframe\">\n  <thead>\n    <tr style=\"text-align: right;\">\n      <th></th>\n      <th>Frame</th>\n      <th>seconds</th>\n      <th>center_x</th>\n      <th>center_y</th>\n      <th>center_z</th>\n      <th>org_x</th>\n      <th>org_y</th>\n      <th>org_z</th>\n      <th>xvec_x</th>\n      <th>xvec_y</th>\n      <th>xvec_z</th>\n      <th>zvec_x</th>\n      <th>zvec_y</th>\n      <th>zvec_z</th>\n      <th>time</th>\n    </tr>\n  </thead>\n  <tbody>\n    <tr>\n      <th>0</th>\n      <td>0</td>\n      <td>0.00</td>\n      <td>0.003236</td>\n      <td>0.067702</td>\n      <td>-0.139123</td>\n      <td>-0.037691</td>\n      <td>0.065555</td>\n      <td>-0.203663</td>\n      <td>0.040555</td>\n      <td>0.064554</td>\n      <td>-0.203653</td>\n      <td>-0.039944</td>\n      <td>0.067606</td>\n      <td>-0.075845</td>\n      <td>2022-06-13 16:30:34.576</td>\n    </tr>\n    <tr>\n      <th>1</th>\n      <td>1</td>\n      <td>0.01</td>\n      <td>0.003246</td>\n      <td>0.067713</td>\n      <td>-0.139121</td>\n      <td>-0.037848</td>\n      <td>0.065173</td>\n      <td>-0.203597</td>\n      <td>0.040547</td>\n      <td>0.064546</td>\n      <td>-0.203648</td>\n      <td>-0.039949</td>\n      <td>0.067603</td>\n      <td>-0.075850</td>\n      <td>2022-06-13 16:30:34.586</td>\n    </tr>\n    <tr>\n      <th>2</th>\n      <td>2</td>\n      <td>0.02</td>\n      <td>0.003251</td>\n      <td>0.067696</td>\n      <td>-0.139129</td>\n      <td>-0.037697</td>\n      <td>0.065541</td>\n      <td>-0.203672</td>\n      <td>0.040666</td>\n      <td>0.064750</td>\n      <td>-0.203737</td>\n      <td>-0.039946</td>\n      <td>0.067590</td>\n      <td>-0.075851</td>\n      <td>2022-06-13 16:30:34.596</td>\n    </tr>\n    <tr>\n      <th>3</th>\n      <td>3</td>\n      <td>0.03</td>\n      <td>0.003240</td>\n      <td>0.067709</td>\n      <td>-0.139121</td>\n      <td>-0.037702</td>\n      <td>0.065550</td>\n      <td>-0.203678</td>\n      <td>0.040547</td>\n      <td>0.064553</td>\n      <td>-0.203648</td>\n      <td>-0.039948</td>\n      <td>0.067594</td>\n      <td>-0.075842</td>\n      <td>2022-06-13 16:30:34.606</td>\n    </tr>\n    <tr>\n      <th>4</th>\n      <td>4</td>\n      <td>0.04</td>\n      <td>0.003244</td>\n      <td>0.067717</td>\n      <td>-0.139121</td>\n      <td>-0.037855</td>\n      <td>0.065084</td>\n      <td>-0.203598</td>\n      <td>0.040558</td>\n      <td>0.064545</td>\n      <td>-0.203640</td>\n      <td>-0.039948</td>\n      <td>0.067595</td>\n      <td>-0.075849</td>\n      <td>2022-06-13 16:30:34.616</td>\n    </tr>\n    <tr>\n      <th>...</th>\n      <td>...</td>\n      <td>...</td>\n      <td>...</td>\n      <td>...</td>\n      <td>...</td>\n      <td>...</td>\n      <td>...</td>\n      <td>...</td>\n      <td>...</td>\n      <td>...</td>\n      <td>...</td>\n      <td>...</td>\n      <td>...</td>\n      <td>...</td>\n      <td>...</td>\n    </tr>\n    <tr>\n      <th>9254</th>\n      <td>9254</td>\n      <td>92.54</td>\n      <td>0.039232</td>\n      <td>0.071813</td>\n      <td>0.051145</td>\n      <td>-0.001136</td>\n      <td>0.068630</td>\n      <td>-0.014420</td>\n      <td>0.077186</td>\n      <td>0.068300</td>\n      <td>-0.012831</td>\n      <td>-0.005280</td>\n      <td>0.070822</td>\n      <td>0.113676</td>\n      <td>2022-06-13 16:32:07.116</td>\n    </tr>\n    <tr>\n      <th>9255</th>\n      <td>9255</td>\n      <td>92.55</td>\n      <td>0.039225</td>\n      <td>0.071808</td>\n      <td>0.051153</td>\n      <td>-0.001097</td>\n      <td>0.068626</td>\n      <td>-0.014390</td>\n      <td>0.077171</td>\n      <td>0.068299</td>\n      <td>-0.012826</td>\n      <td>-0.005282</td>\n      <td>0.070847</td>\n      <td>0.113693</td>\n      <td>2022-06-13 16:32:07.126</td>\n    </tr>\n    <tr>\n      <th>9256</th>\n      <td>9256</td>\n      <td>92.56</td>\n      <td>0.039230</td>\n      <td>0.071796</td>\n      <td>0.051143</td>\n      <td>-0.001104</td>\n      <td>0.068610</td>\n      <td>-0.014394</td>\n      <td>0.077188</td>\n      <td>0.068304</td>\n      <td>-0.012824</td>\n      <td>-0.005281</td>\n      <td>0.070832</td>\n      <td>0.113681</td>\n      <td>2022-06-13 16:32:07.136</td>\n    </tr>\n    <tr>\n      <th>9257</th>\n      <td>9257</td>\n      <td>92.57</td>\n      <td>0.039229</td>\n      <td>0.071813</td>\n      <td>0.051151</td>\n      <td>-0.001111</td>\n      <td>0.068638</td>\n      <td>-0.014422</td>\n      <td>0.077169</td>\n      <td>0.068288</td>\n      <td>-0.012831</td>\n      <td>-0.005277</td>\n      <td>0.070810</td>\n      <td>0.113667</td>\n      <td>2022-06-13 16:32:07.146</td>\n    </tr>\n    <tr>\n      <th>9258</th>\n      <td>9258</td>\n      <td>92.58</td>\n      <td>0.039221</td>\n      <td>0.071813</td>\n      <td>0.051146</td>\n      <td>-0.001122</td>\n      <td>0.068638</td>\n      <td>-0.014413</td>\n      <td>0.077175</td>\n      <td>0.068302</td>\n      <td>-0.012825</td>\n      <td>-0.005279</td>\n      <td>0.070820</td>\n      <td>0.113678</td>\n      <td>2022-06-13 16:32:07.156</td>\n    </tr>\n  </tbody>\n</table>\n<p>9259 rows × 15 columns</p>\n</div>"
     },
     "execution_count": 80,
     "metadata": {},
     "output_type": "execute_result"
    }
   ],
   "source": [
    "mc"
   ],
   "metadata": {
    "collapsed": false,
    "pycharm": {
     "name": "#%%\n"
    }
   }
  },
  {
   "cell_type": "code",
   "execution_count": 81,
   "outputs": [],
   "source": [
    "\"\"\"getting initial values of motion capture data\"\"\"\n",
    "\n",
    "marker_cen = np.array(mc[[\"center_x\", \"center_y\", \"center_z\"]].iloc[0]).T\n",
    "marker_xvec = np.array(mc[[\"xvec_x\", \"xvec_y\", \"xvec_z\"]].iloc[0]).T\n",
    "marker_zvec = np.array(mc[[\"zvec_x\", \"zvec_y\", \"zvec_z\"]].iloc[0]).T\n",
    "marker_org = np.array(mc[[\"org_x\", \"org_y\", \"org_z\"]].iloc[0]).T"
   ],
   "metadata": {
    "collapsed": false,
    "pycharm": {
     "name": "#%%\n"
    }
   }
  },
  {
   "cell_type": "code",
   "execution_count": 82,
   "outputs": [],
   "source": [
    "v1 = marker_xvec - marker_org #v1\n",
    "v2 = marker_zvec - marker_org #v2\n",
    "\n",
    "v1 = v1.reshape(3,1)\n",
    "v2 = v2.reshape(3,1)\n",
    "v3 = marker_org.reshape(3,1)"
   ],
   "metadata": {
    "collapsed": false,
    "pycharm": {
     "name": "#%%\n"
    }
   }
  },
  {
   "cell_type": "code",
   "execution_count": 83,
   "outputs": [],
   "source": [
    "def calculate_rotmat(xdir,zdir,org):\n",
    "    \"\"\"\n",
    "    this function calculates rotation matrix\n",
    "    \"\"\"\n",
    "    v1 = xdir - org #v1\n",
    "    v2 = zdir - org #v2\n",
    "\n",
    "    vxnorm = v1/np.linalg.norm(v1)\n",
    "\n",
    "    vzcap = v2 - (vxnorm.T @ v2) * vxnorm\n",
    "    vznorm = vzcap/ np.linalg.norm(vzcap)\n",
    "\n",
    "    vynorm = np.cross(vznorm.T[0], vxnorm.T[0]).reshape(3,1)\n",
    "    rotMat = np.hstack((vxnorm, vynorm, vznorm))\n",
    "    return rotMat"
   ],
   "metadata": {
    "collapsed": false,
    "pycharm": {
     "name": "#%%\n"
    }
   }
  },
  {
   "cell_type": "code",
   "execution_count": 84,
   "outputs": [
    {
     "data": {
      "text/plain": "array([[ 0.47588045,  0.27741993, -0.83461127],\n       [-0.27318888,  0.9486361 ,  0.15955369],\n       [ 0.83600576,  0.15207804,  0.52722542]])"
     },
     "execution_count": 84,
     "metadata": {},
     "output_type": "execute_result"
    }
   ],
   "source": [
    "\"\"\"getting initial rot mat in mc data\"\"\"\n",
    "\n",
    "rot_mat = calculate_rotmat(v1, v2, v3)\n",
    "rot_mat"
   ],
   "metadata": {
    "collapsed": false,
    "pycharm": {
     "name": "#%%\n"
    }
   }
  },
  {
   "cell_type": "code",
   "execution_count": 85,
   "outputs": [],
   "source": [
    "temp_list = []\n",
    "for i in range(len(mc[\"xvec_x\"])):\n",
    "    center_val =  np.array(mc[[\"center_x\", \"center_y\", \"center_z\"]].iloc[i])\n",
    "    center_val = center_val.reshape(3,1)\n",
    "    transformed_center = rot_mat.T @ center_val + v3\n",
    "    transformed_center = transformed_center.T[0]\n",
    "    temp_list.append(transformed_center)\n",
    "mc[[\"cen_x\", \"cen_y\", \"cen_z\"]] = temp_list"
   ],
   "metadata": {
    "collapsed": false,
    "pycharm": {
     "name": "#%%\n"
    }
   }
  },
  {
   "cell_type": "code",
   "execution_count": 86,
   "outputs": [
    {
     "data": {
      "text/plain": "      Frame  seconds  center_x  center_y  center_z     org_x     org_y  \\\n0         0     0.00  0.003236  0.067702 -0.139123 -0.037691  0.065555   \n1         1     0.01  0.003246  0.067713 -0.139121 -0.037848  0.065173   \n2         2     0.02  0.003251  0.067696 -0.139129 -0.037697  0.065541   \n3         3     0.03  0.003240  0.067709 -0.139121 -0.037702  0.065550   \n4         4     0.04  0.003244  0.067717 -0.139121 -0.037855  0.065084   \n...     ...      ...       ...       ...       ...       ...       ...   \n9254   9254    92.54  0.039232  0.071813  0.051145 -0.001136  0.068630   \n9255   9255    92.55  0.039225  0.071808  0.051153 -0.001097  0.068626   \n9256   9256    92.56  0.039230  0.071796  0.051143 -0.001104  0.068610   \n9257   9257    92.57  0.039229  0.071813  0.051151 -0.001111  0.068638   \n9258   9258    92.58  0.039221  0.071813  0.051146 -0.001122  0.068638   \n\n         org_z    xvec_x    xvec_y    xvec_z    zvec_x    zvec_y    zvec_z  \\\n0    -0.203663  0.040555  0.064554 -0.203653 -0.039944  0.067606 -0.075845   \n1    -0.203597  0.040547  0.064546 -0.203648 -0.039949  0.067603 -0.075850   \n2    -0.203672  0.040666  0.064750 -0.203737 -0.039946  0.067590 -0.075851   \n3    -0.203678  0.040547  0.064553 -0.203648 -0.039948  0.067594 -0.075842   \n4    -0.203598  0.040558  0.064545 -0.203640 -0.039948  0.067595 -0.075849   \n...        ...       ...       ...       ...       ...       ...       ...   \n9254 -0.014420  0.077186  0.068300 -0.012831 -0.005280  0.070822  0.113676   \n9255 -0.014390  0.077171  0.068299 -0.012826 -0.005282  0.070847  0.113693   \n9256 -0.014394  0.077188  0.068304 -0.012824 -0.005281  0.070832  0.113681   \n9257 -0.014422  0.077169  0.068288 -0.012831 -0.005277  0.070810  0.113667   \n9258 -0.014413  0.077175  0.068302 -0.012825 -0.005279  0.070820  0.113678   \n\n                        time     cen_x     cen_y     cen_z  \n0    2022-06-13 16:30:34.576 -0.170954  0.109520 -0.268911  \n1    2022-06-13 16:30:34.586 -0.170951  0.109533 -0.268916  \n2    2022-06-13 16:30:34.596 -0.170950  0.109517 -0.268928  \n3    2022-06-13 16:30:34.606 -0.170952  0.109528 -0.268912  \n4    2022-06-13 16:30:34.616 -0.170953  0.109536 -0.268914  \n...                      ...       ...       ...       ...  \n9254 2022-06-13 16:32:07.116  0.004118  0.152341 -0.197983  \n9255 2022-06-13 16:32:07.126  0.004122  0.152336 -0.197974  \n9256 2022-06-13 16:32:07.136  0.004120  0.152324 -0.197986  \n9257 2022-06-13 16:32:07.146  0.004121  0.152341 -0.197978  \n9258 2022-06-13 16:32:07.156  0.004113  0.152338 -0.197974  \n\n[9259 rows x 18 columns]",
      "text/html": "<div>\n<style scoped>\n    .dataframe tbody tr th:only-of-type {\n        vertical-align: middle;\n    }\n\n    .dataframe tbody tr th {\n        vertical-align: top;\n    }\n\n    .dataframe thead th {\n        text-align: right;\n    }\n</style>\n<table border=\"1\" class=\"dataframe\">\n  <thead>\n    <tr style=\"text-align: right;\">\n      <th></th>\n      <th>Frame</th>\n      <th>seconds</th>\n      <th>center_x</th>\n      <th>center_y</th>\n      <th>center_z</th>\n      <th>org_x</th>\n      <th>org_y</th>\n      <th>org_z</th>\n      <th>xvec_x</th>\n      <th>xvec_y</th>\n      <th>xvec_z</th>\n      <th>zvec_x</th>\n      <th>zvec_y</th>\n      <th>zvec_z</th>\n      <th>time</th>\n      <th>cen_x</th>\n      <th>cen_y</th>\n      <th>cen_z</th>\n    </tr>\n  </thead>\n  <tbody>\n    <tr>\n      <th>0</th>\n      <td>0</td>\n      <td>0.00</td>\n      <td>0.003236</td>\n      <td>0.067702</td>\n      <td>-0.139123</td>\n      <td>-0.037691</td>\n      <td>0.065555</td>\n      <td>-0.203663</td>\n      <td>0.040555</td>\n      <td>0.064554</td>\n      <td>-0.203653</td>\n      <td>-0.039944</td>\n      <td>0.067606</td>\n      <td>-0.075845</td>\n      <td>2022-06-13 16:30:34.576</td>\n      <td>-0.170954</td>\n      <td>0.109520</td>\n      <td>-0.268911</td>\n    </tr>\n    <tr>\n      <th>1</th>\n      <td>1</td>\n      <td>0.01</td>\n      <td>0.003246</td>\n      <td>0.067713</td>\n      <td>-0.139121</td>\n      <td>-0.037848</td>\n      <td>0.065173</td>\n      <td>-0.203597</td>\n      <td>0.040547</td>\n      <td>0.064546</td>\n      <td>-0.203648</td>\n      <td>-0.039949</td>\n      <td>0.067603</td>\n      <td>-0.075850</td>\n      <td>2022-06-13 16:30:34.586</td>\n      <td>-0.170951</td>\n      <td>0.109533</td>\n      <td>-0.268916</td>\n    </tr>\n    <tr>\n      <th>2</th>\n      <td>2</td>\n      <td>0.02</td>\n      <td>0.003251</td>\n      <td>0.067696</td>\n      <td>-0.139129</td>\n      <td>-0.037697</td>\n      <td>0.065541</td>\n      <td>-0.203672</td>\n      <td>0.040666</td>\n      <td>0.064750</td>\n      <td>-0.203737</td>\n      <td>-0.039946</td>\n      <td>0.067590</td>\n      <td>-0.075851</td>\n      <td>2022-06-13 16:30:34.596</td>\n      <td>-0.170950</td>\n      <td>0.109517</td>\n      <td>-0.268928</td>\n    </tr>\n    <tr>\n      <th>3</th>\n      <td>3</td>\n      <td>0.03</td>\n      <td>0.003240</td>\n      <td>0.067709</td>\n      <td>-0.139121</td>\n      <td>-0.037702</td>\n      <td>0.065550</td>\n      <td>-0.203678</td>\n      <td>0.040547</td>\n      <td>0.064553</td>\n      <td>-0.203648</td>\n      <td>-0.039948</td>\n      <td>0.067594</td>\n      <td>-0.075842</td>\n      <td>2022-06-13 16:30:34.606</td>\n      <td>-0.170952</td>\n      <td>0.109528</td>\n      <td>-0.268912</td>\n    </tr>\n    <tr>\n      <th>4</th>\n      <td>4</td>\n      <td>0.04</td>\n      <td>0.003244</td>\n      <td>0.067717</td>\n      <td>-0.139121</td>\n      <td>-0.037855</td>\n      <td>0.065084</td>\n      <td>-0.203598</td>\n      <td>0.040558</td>\n      <td>0.064545</td>\n      <td>-0.203640</td>\n      <td>-0.039948</td>\n      <td>0.067595</td>\n      <td>-0.075849</td>\n      <td>2022-06-13 16:30:34.616</td>\n      <td>-0.170953</td>\n      <td>0.109536</td>\n      <td>-0.268914</td>\n    </tr>\n    <tr>\n      <th>...</th>\n      <td>...</td>\n      <td>...</td>\n      <td>...</td>\n      <td>...</td>\n      <td>...</td>\n      <td>...</td>\n      <td>...</td>\n      <td>...</td>\n      <td>...</td>\n      <td>...</td>\n      <td>...</td>\n      <td>...</td>\n      <td>...</td>\n      <td>...</td>\n      <td>...</td>\n      <td>...</td>\n      <td>...</td>\n      <td>...</td>\n    </tr>\n    <tr>\n      <th>9254</th>\n      <td>9254</td>\n      <td>92.54</td>\n      <td>0.039232</td>\n      <td>0.071813</td>\n      <td>0.051145</td>\n      <td>-0.001136</td>\n      <td>0.068630</td>\n      <td>-0.014420</td>\n      <td>0.077186</td>\n      <td>0.068300</td>\n      <td>-0.012831</td>\n      <td>-0.005280</td>\n      <td>0.070822</td>\n      <td>0.113676</td>\n      <td>2022-06-13 16:32:07.116</td>\n      <td>0.004118</td>\n      <td>0.152341</td>\n      <td>-0.197983</td>\n    </tr>\n    <tr>\n      <th>9255</th>\n      <td>9255</td>\n      <td>92.55</td>\n      <td>0.039225</td>\n      <td>0.071808</td>\n      <td>0.051153</td>\n      <td>-0.001097</td>\n      <td>0.068626</td>\n      <td>-0.014390</td>\n      <td>0.077171</td>\n      <td>0.068299</td>\n      <td>-0.012826</td>\n      <td>-0.005282</td>\n      <td>0.070847</td>\n      <td>0.113693</td>\n      <td>2022-06-13 16:32:07.126</td>\n      <td>0.004122</td>\n      <td>0.152336</td>\n      <td>-0.197974</td>\n    </tr>\n    <tr>\n      <th>9256</th>\n      <td>9256</td>\n      <td>92.56</td>\n      <td>0.039230</td>\n      <td>0.071796</td>\n      <td>0.051143</td>\n      <td>-0.001104</td>\n      <td>0.068610</td>\n      <td>-0.014394</td>\n      <td>0.077188</td>\n      <td>0.068304</td>\n      <td>-0.012824</td>\n      <td>-0.005281</td>\n      <td>0.070832</td>\n      <td>0.113681</td>\n      <td>2022-06-13 16:32:07.136</td>\n      <td>0.004120</td>\n      <td>0.152324</td>\n      <td>-0.197986</td>\n    </tr>\n    <tr>\n      <th>9257</th>\n      <td>9257</td>\n      <td>92.57</td>\n      <td>0.039229</td>\n      <td>0.071813</td>\n      <td>0.051151</td>\n      <td>-0.001111</td>\n      <td>0.068638</td>\n      <td>-0.014422</td>\n      <td>0.077169</td>\n      <td>0.068288</td>\n      <td>-0.012831</td>\n      <td>-0.005277</td>\n      <td>0.070810</td>\n      <td>0.113667</td>\n      <td>2022-06-13 16:32:07.146</td>\n      <td>0.004121</td>\n      <td>0.152341</td>\n      <td>-0.197978</td>\n    </tr>\n    <tr>\n      <th>9258</th>\n      <td>9258</td>\n      <td>92.58</td>\n      <td>0.039221</td>\n      <td>0.071813</td>\n      <td>0.051146</td>\n      <td>-0.001122</td>\n      <td>0.068638</td>\n      <td>-0.014413</td>\n      <td>0.077175</td>\n      <td>0.068302</td>\n      <td>-0.012825</td>\n      <td>-0.005279</td>\n      <td>0.070820</td>\n      <td>0.113678</td>\n      <td>2022-06-13 16:32:07.156</td>\n      <td>0.004113</td>\n      <td>0.152338</td>\n      <td>-0.197974</td>\n    </tr>\n  </tbody>\n</table>\n<p>9259 rows × 18 columns</p>\n</div>"
     },
     "execution_count": 86,
     "metadata": {},
     "output_type": "execute_result"
    }
   ],
   "source": [
    "mc"
   ],
   "metadata": {
    "collapsed": false,
    "pycharm": {
     "name": "#%%\n"
    }
   }
  },
  {
   "cell_type": "code",
   "execution_count": 87,
   "outputs": [
    {
     "data": {
      "text/plain": "[<matplotlib.lines.Line2D at 0x1c99e63d848>]"
     },
     "execution_count": 87,
     "metadata": {},
     "output_type": "execute_result"
    },
    {
     "data": {
      "text/plain": "<Figure size 432x288 with 1 Axes>",
      "image/png": "[encoded data removed]"
     },
     "metadata": {
      "needs_background": "light"
     },
     "output_type": "display_data"
    }
   ],
   "source": [
    "plt.plot(mc[\"cen_x\"])"
   ],
   "metadata": {
    "collapsed": false,
    "pycharm": {
     "name": "#%%\n"
    }
   }
  },
  {
   "cell_type": "code",
   "execution_count": 88,
   "outputs": [
    {
     "data": {
      "text/plain": "                        sys_time  e_fr  e_fl  e_rr  e_rl\n0     2022-06-13 16:30:30.787358     0     0     0     0\n1     2022-06-13 16:30:31.018461     0     0     0     0\n2     2022-06-13 16:30:31.018461     0     0     0     0\n3     2022-06-13 16:30:31.018961     0     0     0     0\n4     2022-06-13 16:30:31.018961     0     0     0     0\n...                          ...   ...   ...   ...   ...\n7205  2022-06-13 16:31:35.734001 -1977  -131 -1072 -2043\n7206  2022-06-13 16:31:35.734001 -1977  -131 -1072 -2043\n7207  2022-06-13 16:31:35.734001 -1977  -131 -1072 -2043\n7208  2022-06-13 16:31:35.734501 -1977  -131 -1072 -2043\n7209  2022-06-13 16:31:35.734501 -1977  -131 -1072 -2043\n\n[7210 rows x 5 columns]",
      "text/html": "<div>\n<style scoped>\n    .dataframe tbody tr th:only-of-type {\n        vertical-align: middle;\n    }\n\n    .dataframe tbody tr th {\n        vertical-align: top;\n    }\n\n    .dataframe thead th {\n        text-align: right;\n    }\n</style>\n<table border=\"1\" class=\"dataframe\">\n  <thead>\n    <tr style=\"text-align: right;\">\n      <th></th>\n      <th>sys_time</th>\n      <th>e_fr</th>\n      <th>e_fl</th>\n      <th>e_rr</th>\n      <th>e_rl</th>\n    </tr>\n  </thead>\n  <tbody>\n    <tr>\n      <th>0</th>\n      <td>2022-06-13 16:30:30.787358</td>\n      <td>0</td>\n      <td>0</td>\n      <td>0</td>\n      <td>0</td>\n    </tr>\n    <tr>\n      <th>1</th>\n      <td>2022-06-13 16:30:31.018461</td>\n      <td>0</td>\n      <td>0</td>\n      <td>0</td>\n      <td>0</td>\n    </tr>\n    <tr>\n      <th>2</th>\n      <td>2022-06-13 16:30:31.018461</td>\n      <td>0</td>\n      <td>0</td>\n      <td>0</td>\n      <td>0</td>\n    </tr>\n    <tr>\n      <th>3</th>\n      <td>2022-06-13 16:30:31.018961</td>\n      <td>0</td>\n      <td>0</td>\n      <td>0</td>\n      <td>0</td>\n    </tr>\n    <tr>\n      <th>4</th>\n      <td>2022-06-13 16:30:31.018961</td>\n      <td>0</td>\n      <td>0</td>\n      <td>0</td>\n      <td>0</td>\n    </tr>\n    <tr>\n      <th>...</th>\n      <td>...</td>\n      <td>...</td>\n      <td>...</td>\n      <td>...</td>\n      <td>...</td>\n    </tr>\n    <tr>\n      <th>7205</th>\n      <td>2022-06-13 16:31:35.734001</td>\n      <td>-1977</td>\n      <td>-131</td>\n      <td>-1072</td>\n      <td>-2043</td>\n    </tr>\n    <tr>\n      <th>7206</th>\n      <td>2022-06-13 16:31:35.734001</td>\n      <td>-1977</td>\n      <td>-131</td>\n      <td>-1072</td>\n      <td>-2043</td>\n    </tr>\n    <tr>\n      <th>7207</th>\n      <td>2022-06-13 16:31:35.734001</td>\n      <td>-1977</td>\n      <td>-131</td>\n      <td>-1072</td>\n      <td>-2043</td>\n    </tr>\n    <tr>\n      <th>7208</th>\n      <td>2022-06-13 16:31:35.734501</td>\n      <td>-1977</td>\n      <td>-131</td>\n      <td>-1072</td>\n      <td>-2043</td>\n    </tr>\n    <tr>\n      <th>7209</th>\n      <td>2022-06-13 16:31:35.734501</td>\n      <td>-1977</td>\n      <td>-131</td>\n      <td>-1072</td>\n      <td>-2043</td>\n    </tr>\n  </tbody>\n</table>\n<p>7210 rows × 5 columns</p>\n</div>"
     },
     "execution_count": 88,
     "metadata": {},
     "output_type": "execute_result"
    }
   ],
   "source": [
    "\"\"\"resetting cart values to zero\"\"\"\n",
    "cart_df[\"e_fr\"] = cart_df[\"e_fr\"]- cart_df[\"e_fr\"].iloc[0]\n",
    "cart_df[\"e_fl\"] = cart_df[\"e_fl\"]- cart_df[\"e_fl\"].iloc[0]\n",
    "cart_df[\"e_rr\"] = cart_df[\"e_rr\"]- cart_df[\"e_rr\"].iloc[0]\n",
    "cart_df[\"e_rl\"] = cart_df[\"e_rl\"]- cart_df[\"e_rl\"].iloc[0]\n",
    "\n",
    "cart_df"
   ],
   "metadata": {
    "collapsed": false,
    "pycharm": {
     "name": "#%%\n"
    }
   }
  },
  {
   "cell_type": "code",
   "execution_count": 89,
   "outputs": [],
   "source": [
    "mils = np.arange(0, len(cart_df[\"e_fr\"])*10, 10)\n",
    "cart_df[\"mils\"] = mils"
   ],
   "metadata": {
    "collapsed": false,
    "pycharm": {
     "name": "#%%\n"
    }
   }
  },
  {
   "cell_type": "markdown",
   "source": [
    "These are the parameters of the cart\n",
    "\n",
    "Diameter = 95 mm\n",
    "radius = 47.5\n",
    "wheel thickness = 45 mm\n",
    "gap between wheel and chassis = 6.5 mm\n",
    "angle between center of chassis and z-dir vector = 51.21 degrees\n",
    "distance between the wheel = 158 mm\n",
    "distance between the wheel and the center of the robot = 101.36 (li)\n"
   ],
   "metadata": {
    "collapsed": false,
    "pycharm": {
     "name": "#%% md\n"
    }
   }
  },
  {
   "cell_type": "code",
   "execution_count": 90,
   "outputs": [],
   "source": [
    "\"\"\"circumfrence of the wheel\"\"\"\n",
    "\n",
    "cir_wheel = 2*np.pi*47.5\n",
    "cir_wheel\n",
    "radius = 47.5\n",
    "\n",
    "lx = 79 #half of the distance between the wheels\n",
    "ly = 122.5/2"
   ],
   "metadata": {
    "collapsed": false,
    "pycharm": {
     "name": "#%%\n"
    }
   }
  },
  {
   "cell_type": "markdown",
   "source": [
    "The encoder values will give 4000 values per revolution\n",
    "360/4000 = 0.09 degrees per encoder rotation value"
   ],
   "metadata": {
    "collapsed": false,
    "pycharm": {
     "name": "#%% md\n"
    }
   }
  },
  {
   "cell_type": "code",
   "execution_count": 91,
   "outputs": [
    {
     "data": {
      "text/plain": "0       0.0\n1       0.0\n2       0.0\n3       0.0\n4       0.0\n       ... \n7205    0.0\n7206    0.0\n7207    0.0\n7208    0.0\n7209    0.0\nName: av_fl, Length: 7210, dtype: float64"
     },
     "execution_count": 91,
     "metadata": {},
     "output_type": "execute_result"
    }
   ],
   "source": [
    "\"\"\" angular velocity\"\"\"\n",
    "cart_df[\"av_fr\"] = (cart_df[\"e_fr\"]*0.09).diff()/10\n",
    "cart_df[\"av_fl\"] = (cart_df[\"e_fl\"]*0.09).diff()/10\n",
    "cart_df[\"av_rr\"] = (cart_df[\"e_rr\"]*0.09).diff()/10\n",
    "cart_df[\"av_rl\"] = (cart_df[\"e_rl\"]*0.09).diff()/10\n",
    "cart_df['av_fr'] = cart_df[\"av_fr\"].fillna(0)\n",
    "cart_df['av_fl'] = cart_df[\"av_fl\"].fillna(0)\n",
    "cart_df['av_rr'] = cart_df[\"av_rr\"].fillna(0)\n",
    "cart_df['av_rl'] = cart_df[\"av_rl\"].fillna(0)\n",
    "cart_df[\"av_fl\"]"
   ],
   "metadata": {
    "collapsed": false,
    "pycharm": {
     "name": "#%%\n"
    }
   }
  },
  {
   "cell_type": "code",
   "execution_count": null,
   "outputs": [],
   "source": [],
   "metadata": {
    "collapsed": false,
    "pycharm": {
     "name": "#%%\n"
    }
   }
  },
  {
   "cell_type": "code",
   "execution_count": 92,
   "outputs": [],
   "source": [
    "\"\"\"finding vx, vy, w\"\"\"\n",
    "\n",
    "cart_df[\"vx\"] = (cart_df[\"av_fr\"] + cart_df[\"av_fl\"] + cart_df[\"av_rl\"] + cart_df[\"av_rr\"])*(radius/4)\n",
    "cart_df[\"vy\"] = (- cart_df[\"av_fr\"] + cart_df[\"av_fl\"] + cart_df[\"av_rl\"] - cart_df[\"av_rr\"])*(radius/4)\n",
    "cart_df[\"w\"] = (- cart_df[\"av_fr\"] + cart_df[\"av_fl\"] - cart_df[\"av_rl\"] + cart_df[\"av_rr\"])*(radius/(4*(lx + ly)))"
   ],
   "metadata": {
    "collapsed": false,
    "pycharm": {
     "name": "#%%\n"
    }
   }
  },
  {
   "cell_type": "code",
   "execution_count": 93,
   "outputs": [
    {
     "data": {
      "text/plain": "0       0.0\n1       0.0\n2       0.0\n3       0.0\n4       0.0\n       ... \n7205    0.0\n7206    0.0\n7207    0.0\n7208    0.0\n7209    0.0\nName: vx, Length: 7210, dtype: float64"
     },
     "execution_count": 93,
     "metadata": {},
     "output_type": "execute_result"
    }
   ],
   "source": [
    "cart_df[\"vx\"]"
   ],
   "metadata": {
    "collapsed": false,
    "pycharm": {
     "name": "#%%\n"
    }
   }
  },
  {
   "cell_type": "code",
   "execution_count": 94,
   "outputs": [],
   "source": [
    "\"\"\"calculating displacement\n",
    "s=(1/2)* (v+u)t\n",
    "v = current velocity\n",
    "u = initial velocity\n",
    "t = time\n",
    "s = displacement\n",
    "\"\"\"\n",
    "_xval = []\n",
    "_yval = []\n",
    "for i in range(len(cart_df[\"vx\"])):\n",
    "    _xval.append(0.5*(cart_df[\"vx\"].iloc[i] + cart_df[\"vx\"].iloc[0])*10)\n",
    "    _yval.append(0.5*(cart_df[\"vy\"].iloc[i] + cart_df[\"vy\"].iloc[0])*10)\n",
    "cart_df[\"x_val\"] = _xval\n",
    "cart_df[\"y_val\"] = _yval"
   ],
   "metadata": {
    "collapsed": false,
    "pycharm": {
     "name": "#%%\n"
    }
   }
  },
  {
   "cell_type": "code",
   "execution_count": 95,
   "outputs": [
    {
     "data": {
      "text/plain": "[<matplotlib.lines.Line2D at 0x1c99d5aeac8>]"
     },
     "execution_count": 95,
     "metadata": {},
     "output_type": "execute_result"
    },
    {
     "data": {
      "text/plain": "<Figure size 432x288 with 1 Axes>",
      "image/png": "[encoded data removed]"
     },
     "metadata": {
      "needs_background": "light"
     },
     "output_type": "display_data"
    }
   ],
   "source": [
    "plt.plot(cart_df[\"x_val\"])\n",
    "plt.plot(cart_df[\"y_val\"])"
   ],
   "metadata": {
    "collapsed": false,
    "pycharm": {
     "name": "#%%\n"
    }
   }
  },
  {
   "cell_type": "code",
   "execution_count": 96,
   "outputs": [
    {
     "data": {
      "text/plain": "[<matplotlib.lines.Line2D at 0x1c99a0e8ac8>]"
     },
     "execution_count": 96,
     "metadata": {},
     "output_type": "execute_result"
    },
    {
     "data": {
      "text/plain": "<Figure size 432x288 with 1 Axes>",
      "image/png": "[encoded data removed]"
     },
     "metadata": {
      "needs_background": "light"
     },
     "output_type": "display_data"
    }
   ],
   "source": [
    "plt.plot(mc[\"cen_z\"])"
   ],
   "metadata": {
    "collapsed": false,
    "pycharm": {
     "name": "#%%\n"
    }
   }
  },
  {
   "cell_type": "code",
   "execution_count": 96,
   "outputs": [],
   "source": [],
   "metadata": {
    "collapsed": false,
    "pycharm": {
     "name": "#%%\n"
    }
   }
  }
 ],
 "metadata": {
  "kernelspec": {
   "display_name": "Python 3",
   "language": "python",
   "name": "python3"
  },
  "language_info": {
   "codemirror_mode": {
    "name": "ipython",
    "version": 2
   },
   "file_extension": ".py",
   "mimetype": "text/x-python",
   "name": "python",
   "nbconvert_exporter": "python",
   "pygments_lexer": "ipython2",
   "version": "2.7.6"
  }
 },
 "nbformat": 4,
 "nbformat_minor": 0
}