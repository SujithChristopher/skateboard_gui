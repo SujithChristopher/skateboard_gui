{
 "cells": [
  {
   "cell_type": "code",
   "execution_count": 178,
   "metadata": {
    "collapsed": false,
    "pycharm": {
     "name": "#%%\n"
    }
   },
   "outputs": [],
   "source": [
    "import matplotlib.pyplot as plt\n",
    "import numpy as np\n",
    "import pandas as pd\n",
    "from datetime import datetime, timedelta\n",
    "from pd_support import read_df_csv\n",
    "from scipy.interpolate import interp1d\n",
    "from pd_support import read_df_csv, add_datetime_col, add_datetime_diff\n"
   ]
  },
  {
   "cell_type": "code",
   "execution_count": 179,
   "metadata": {
    "collapsed": false,
    "pycharm": {
     "name": "#%%\n"
    }
   },
   "outputs": [
    {
     "data": {
      "text/plain": [
       "datetime.datetime(2022, 6, 23, 9, 53, 21, 904000)"
      ]
     },
     "execution_count": 179,
     "metadata": {},
     "output_type": "execute_result"
    }
   ],
   "source": [
    "cart_df = pd.read_csv(\"..//data_csv//random_movement_sync.csv\")\n",
    "mc, mc_dt = read_df_csv(\"..//data_csv//random_movement_sync_mc.csv\")\n",
    "mc_dt"
   ]
  },
  {
   "cell_type": "code",
   "execution_count": 180,
   "metadata": {
    "collapsed": false,
    "pycharm": {
     "name": "#%%\n"
    }
   },
   "outputs": [
    {
     "name": "stdout",
     "output_type": "stream",
     "text": [
      "5412\n"
     ]
    },
    {
     "data": {
      "text/plain": [
       "Timestamp('2022-06-23 09:53:21.904000')"
      ]
     },
     "execution_count": 180,
     "metadata": {},
     "output_type": "execute_result"
    }
   ],
   "source": [
    "mc = add_datetime_col(mc, mc_dt, \"seconds\")\n",
    "cart_df = add_datetime_diff(cart_df, mc_dt,\"sync\", \"mils\", True)\n",
    "mc[\"time\"][0]"
   ]
  },
  {
   "cell_type": "code",
   "execution_count": 181,
   "metadata": {
    "collapsed": false,
    "pycharm": {
     "name": "#%%\n"
    }
   },
   "outputs": [
    {
     "data": {
      "text/plain": [
       "numpy.float64"
      ]
     },
     "execution_count": 181,
     "metadata": {},
     "output_type": "execute_result"
    }
   ],
   "source": [
    "type(mc[\"org_x\"][0])"
   ]
  },
  {
   "cell_type": "code",
   "execution_count": 182,
   "metadata": {
    "collapsed": false,
    "pycharm": {
     "name": "#%%\n"
    }
   },
   "outputs": [
    {
     "data": {
      "text/html": [
       "<div>\n",
       "<style scoped>\n",
       "    .dataframe tbody tr th:only-of-type {\n",
       "        vertical-align: middle;\n",
       "    }\n",
       "\n",
       "    .dataframe tbody tr th {\n",
       "        vertical-align: top;\n",
       "    }\n",
       "\n",
       "    .dataframe thead th {\n",
       "        text-align: right;\n",
       "    }\n",
       "</style>\n",
       "<table border=\"1\" class=\"dataframe\">\n",
       "  <thead>\n",
       "    <tr style=\"text-align: right;\">\n",
       "      <th></th>\n",
       "      <th>frame</th>\n",
       "      <th>seconds</th>\n",
       "      <th>org_x</th>\n",
       "      <th>org_y</th>\n",
       "      <th>org_z</th>\n",
       "      <th>xdir_x</th>\n",
       "      <th>xdir_y</th>\n",
       "      <th>xdir_z</th>\n",
       "      <th>zdir_x</th>\n",
       "      <th>zdir_y</th>\n",
       "      <th>zdir_z</th>\n",
       "      <th>time</th>\n",
       "    </tr>\n",
       "  </thead>\n",
       "  <tbody>\n",
       "    <tr>\n",
       "      <th>0</th>\n",
       "      <td>0</td>\n",
       "      <td>0.00</td>\n",
       "      <td>0.055481</td>\n",
       "      <td>0.069260</td>\n",
       "      <td>-0.041580</td>\n",
       "      <td>0.098064</td>\n",
       "      <td>0.067938</td>\n",
       "      <td>-0.044956</td>\n",
       "      <td>0.063091</td>\n",
       "      <td>0.068069</td>\n",
       "      <td>0.061386</td>\n",
       "      <td>2022-06-23 09:53:21.904</td>\n",
       "    </tr>\n",
       "    <tr>\n",
       "      <th>1</th>\n",
       "      <td>1</td>\n",
       "      <td>0.01</td>\n",
       "      <td>0.055477</td>\n",
       "      <td>0.069261</td>\n",
       "      <td>-0.041599</td>\n",
       "      <td>0.098055</td>\n",
       "      <td>0.067940</td>\n",
       "      <td>-0.044953</td>\n",
       "      <td>0.063094</td>\n",
       "      <td>0.068065</td>\n",
       "      <td>0.061405</td>\n",
       "      <td>2022-06-23 09:53:21.914</td>\n",
       "    </tr>\n",
       "    <tr>\n",
       "      <th>2</th>\n",
       "      <td>2</td>\n",
       "      <td>0.02</td>\n",
       "      <td>0.055469</td>\n",
       "      <td>0.069267</td>\n",
       "      <td>-0.041599</td>\n",
       "      <td>0.098113</td>\n",
       "      <td>0.067981</td>\n",
       "      <td>-0.044934</td>\n",
       "      <td>0.063092</td>\n",
       "      <td>0.068071</td>\n",
       "      <td>0.061405</td>\n",
       "      <td>2022-06-23 09:53:21.924</td>\n",
       "    </tr>\n",
       "    <tr>\n",
       "      <th>3</th>\n",
       "      <td>3</td>\n",
       "      <td>0.03</td>\n",
       "      <td>0.055480</td>\n",
       "      <td>0.069253</td>\n",
       "      <td>-0.041581</td>\n",
       "      <td>0.098086</td>\n",
       "      <td>0.067976</td>\n",
       "      <td>-0.044939</td>\n",
       "      <td>0.063087</td>\n",
       "      <td>0.068064</td>\n",
       "      <td>0.061388</td>\n",
       "      <td>2022-06-23 09:53:21.934</td>\n",
       "    </tr>\n",
       "    <tr>\n",
       "      <th>4</th>\n",
       "      <td>4</td>\n",
       "      <td>0.04</td>\n",
       "      <td>0.055468</td>\n",
       "      <td>0.069244</td>\n",
       "      <td>-0.041580</td>\n",
       "      <td>0.098062</td>\n",
       "      <td>0.067936</td>\n",
       "      <td>-0.044956</td>\n",
       "      <td>0.063090</td>\n",
       "      <td>0.068068</td>\n",
       "      <td>0.061393</td>\n",
       "      <td>2022-06-23 09:53:21.944</td>\n",
       "    </tr>\n",
       "    <tr>\n",
       "      <th>...</th>\n",
       "      <td>...</td>\n",
       "      <td>...</td>\n",
       "      <td>...</td>\n",
       "      <td>...</td>\n",
       "      <td>...</td>\n",
       "      <td>...</td>\n",
       "      <td>...</td>\n",
       "      <td>...</td>\n",
       "      <td>...</td>\n",
       "      <td>...</td>\n",
       "      <td>...</td>\n",
       "      <td>...</td>\n",
       "    </tr>\n",
       "    <tr>\n",
       "      <th>5401</th>\n",
       "      <td>5401</td>\n",
       "      <td>54.01</td>\n",
       "      <td>0.047472</td>\n",
       "      <td>0.069224</td>\n",
       "      <td>-0.001611</td>\n",
       "      <td>0.089797</td>\n",
       "      <td>0.067629</td>\n",
       "      <td>-0.005345</td>\n",
       "      <td>0.055973</td>\n",
       "      <td>0.068779</td>\n",
       "      <td>0.101359</td>\n",
       "      <td>2022-06-23 09:54:15.914</td>\n",
       "    </tr>\n",
       "    <tr>\n",
       "      <th>5402</th>\n",
       "      <td>5402</td>\n",
       "      <td>54.02</td>\n",
       "      <td>0.047475</td>\n",
       "      <td>0.069250</td>\n",
       "      <td>-0.001612</td>\n",
       "      <td>0.089796</td>\n",
       "      <td>0.067638</td>\n",
       "      <td>-0.005347</td>\n",
       "      <td>0.055964</td>\n",
       "      <td>0.068783</td>\n",
       "      <td>0.101353</td>\n",
       "      <td>2022-06-23 09:54:15.924</td>\n",
       "    </tr>\n",
       "    <tr>\n",
       "      <th>5403</th>\n",
       "      <td>5403</td>\n",
       "      <td>54.03</td>\n",
       "      <td>0.047473</td>\n",
       "      <td>0.069251</td>\n",
       "      <td>-0.001604</td>\n",
       "      <td>0.089793</td>\n",
       "      <td>0.067626</td>\n",
       "      <td>-0.005344</td>\n",
       "      <td>0.055977</td>\n",
       "      <td>0.068769</td>\n",
       "      <td>0.101345</td>\n",
       "      <td>2022-06-23 09:54:15.934</td>\n",
       "    </tr>\n",
       "    <tr>\n",
       "      <th>5404</th>\n",
       "      <td>5404</td>\n",
       "      <td>54.04</td>\n",
       "      <td>0.047468</td>\n",
       "      <td>0.069241</td>\n",
       "      <td>-0.001604</td>\n",
       "      <td>0.089803</td>\n",
       "      <td>0.067627</td>\n",
       "      <td>-0.005339</td>\n",
       "      <td>0.055961</td>\n",
       "      <td>0.068755</td>\n",
       "      <td>0.101377</td>\n",
       "      <td>2022-06-23 09:54:15.944</td>\n",
       "    </tr>\n",
       "    <tr>\n",
       "      <th>5405</th>\n",
       "      <td>5405</td>\n",
       "      <td>54.05</td>\n",
       "      <td>0.047471</td>\n",
       "      <td>0.069257</td>\n",
       "      <td>-0.001596</td>\n",
       "      <td>0.089803</td>\n",
       "      <td>0.067636</td>\n",
       "      <td>-0.005348</td>\n",
       "      <td>0.055971</td>\n",
       "      <td>0.068776</td>\n",
       "      <td>0.101363</td>\n",
       "      <td>2022-06-23 09:54:15.954</td>\n",
       "    </tr>\n",
       "  </tbody>\n",
       "</table>\n",
       "<p>5406 rows × 12 columns</p>\n",
       "</div>"
      ],
      "text/plain": [
       "      frame  seconds     org_x     org_y     org_z    xdir_x    xdir_y  \\\n",
       "0         0     0.00  0.055481  0.069260 -0.041580  0.098064  0.067938   \n",
       "1         1     0.01  0.055477  0.069261 -0.041599  0.098055  0.067940   \n",
       "2         2     0.02  0.055469  0.069267 -0.041599  0.098113  0.067981   \n",
       "3         3     0.03  0.055480  0.069253 -0.041581  0.098086  0.067976   \n",
       "4         4     0.04  0.055468  0.069244 -0.041580  0.098062  0.067936   \n",
       "...     ...      ...       ...       ...       ...       ...       ...   \n",
       "5401   5401    54.01  0.047472  0.069224 -0.001611  0.089797  0.067629   \n",
       "5402   5402    54.02  0.047475  0.069250 -0.001612  0.089796  0.067638   \n",
       "5403   5403    54.03  0.047473  0.069251 -0.001604  0.089793  0.067626   \n",
       "5404   5404    54.04  0.047468  0.069241 -0.001604  0.089803  0.067627   \n",
       "5405   5405    54.05  0.047471  0.069257 -0.001596  0.089803  0.067636   \n",
       "\n",
       "        xdir_z    zdir_x    zdir_y    zdir_z                    time  \n",
       "0    -0.044956  0.063091  0.068069  0.061386 2022-06-23 09:53:21.904  \n",
       "1    -0.044953  0.063094  0.068065  0.061405 2022-06-23 09:53:21.914  \n",
       "2    -0.044934  0.063092  0.068071  0.061405 2022-06-23 09:53:21.924  \n",
       "3    -0.044939  0.063087  0.068064  0.061388 2022-06-23 09:53:21.934  \n",
       "4    -0.044956  0.063090  0.068068  0.061393 2022-06-23 09:53:21.944  \n",
       "...        ...       ...       ...       ...                     ...  \n",
       "5401 -0.005345  0.055973  0.068779  0.101359 2022-06-23 09:54:15.914  \n",
       "5402 -0.005347  0.055964  0.068783  0.101353 2022-06-23 09:54:15.924  \n",
       "5403 -0.005344  0.055977  0.068769  0.101345 2022-06-23 09:54:15.934  \n",
       "5404 -0.005339  0.055961  0.068755  0.101377 2022-06-23 09:54:15.944  \n",
       "5405 -0.005348  0.055971  0.068776  0.101363 2022-06-23 09:54:15.954  \n",
       "\n",
       "[5406 rows x 12 columns]"
      ]
     },
     "execution_count": 182,
     "metadata": {},
     "output_type": "execute_result"
    }
   ],
   "source": [
    "mc"
   ]
  },
  {
   "cell_type": "code",
   "execution_count": 183,
   "metadata": {
    "collapsed": false,
    "pycharm": {
     "name": "#%%\n"
    }
   },
   "outputs": [
    {
     "data": {
      "text/plain": [
       "0.055481"
      ]
     },
     "execution_count": 183,
     "metadata": {},
     "output_type": "execute_result"
    }
   ],
   "source": [
    "\"\"\"getting initial values of motion capture data\"\"\"\n",
    "\n",
    "# marker_cen = np.array(mc[[\"center_x\", \"center_y\", \"center_z\"]].iloc[0]).T\n",
    "marker_xvec = np.array(mc[[\"xdir_x\", \"xdir_y\", \"xdir_z\"]].iloc[0]).T\n",
    "marker_zvec = np.array(mc[[\"zdir_x\", \"zdir_y\", \"zdir_z\"]].iloc[0]).T\n",
    "marker_org = np.array(mc[[\"org_x\", \"org_y\", \"org_z\"]].iloc[0]).T\n",
    "marker_org[0]"
   ]
  },
  {
   "cell_type": "code",
   "execution_count": 184,
   "metadata": {
    "collapsed": false,
    "pycharm": {
     "name": "#%%\n"
    }
   },
   "outputs": [],
   "source": [
    "v1 = marker_xvec - marker_org #v1\n",
    "v2 = marker_zvec - marker_org #v2\n",
    "\n",
    "v1 = v1.reshape(3,1)\n",
    "v2 = v2.reshape(3,1)\n",
    "v3 = marker_org.reshape(3,1)"
   ]
  },
  {
   "cell_type": "code",
   "execution_count": 185,
   "metadata": {
    "collapsed": false,
    "pycharm": {
     "name": "#%%\n"
    }
   },
   "outputs": [],
   "source": [
    "def calculate_rotmat(xdir,zdir,org):\n",
    "    \"\"\"\n",
    "    this function calculates rotation matrix\n",
    "    \"\"\"\n",
    "    v1 = xdir - org #v1\n",
    "    v2 = zdir - org #v2\n",
    "\n",
    "    vxnorm = v1/np.linalg.norm(v1)\n",
    "\n",
    "    vzcap = v2 - (vxnorm.T @ v2) * vxnorm\n",
    "    vznorm = vzcap/ np.linalg.norm(vzcap)\n",
    "\n",
    "    vynorm = np.cross(vznorm.T[0], vxnorm.T[0]).reshape(3,1)\n",
    "    rotMat = np.hstack((vxnorm, vynorm, vznorm))\n",
    "    return rotMat"
   ]
  },
  {
   "cell_type": "code",
   "execution_count": 186,
   "metadata": {
    "collapsed": false,
    "pycharm": {
     "name": "#%%\n"
    }
   },
   "outputs": [
    {
     "data": {
      "text/plain": [
       "array([[-0.1586706 ,  0.94993558, -0.26915801],\n",
       "       [-0.86829651, -0.00448869,  0.49602523],\n",
       "       [ 0.46998385,  0.31241358,  0.82553797]])"
      ]
     },
     "execution_count": 186,
     "metadata": {},
     "output_type": "execute_result"
    }
   ],
   "source": [
    "\"\"\"getting initial rot mat in mc data\"\"\"\n",
    "\n",
    "rot_mat = calculate_rotmat(v1, v2, v3)\n",
    "rot_mat"
   ]
  },
  {
   "cell_type": "code",
   "execution_count": 187,
   "metadata": {
    "collapsed": false,
    "pycharm": {
     "name": "#%%\n"
    }
   },
   "outputs": [],
   "source": [
    "temp_list = []\n",
    "for i in range(len(mc[\"xdir_x\"])):\n",
    "    # center_val =  np.array(mc[[\"center_x\", \"center_y\", \"center_z\"]].iloc[i])\n",
    "    center_val =  np.array(mc[[\"org_x\", \"org_y\", \"org_z\"]].iloc[i])\n",
    "\n",
    "    center_val = center_val.reshape(3,1)\n",
    "    transformed_center = rot_mat.T @ (center_val - v3)\n",
    "    # if i == 0:\n",
    "    #     print(center_val - v3)\n",
    "    transformed_center = transformed_center.T[0]\n",
    "    temp_list.append(transformed_center)\n",
    "mc[[\"cen_x\", \"cen_y\", \"cen_z\"]] = temp_list"
   ]
  },
  {
   "cell_type": "code",
   "execution_count": 188,
   "metadata": {
    "collapsed": false,
    "pycharm": {
     "name": "#%%\n"
    }
   },
   "outputs": [
    {
     "data": {
      "text/plain": [
       "<matplotlib.legend.Legend at 0x1dbb7a7cf08>"
      ]
     },
     "execution_count": 188,
     "metadata": {},
     "output_type": "execute_result"
    },
    {
     "data": {
      "image/png": "[encoded data removed]",
      "text/plain": [
       "<Figure size 432x288 with 1 Axes>"
      ]
     },
     "metadata": {
      "needs_background": "light"
     },
     "output_type": "display_data"
    }
   ],
   "source": [
    "plt.plot(mc[\"time\"], mc[\"cen_x\"], label=\"center x\")\n",
    "plt.plot(mc[\"time\"], mc[\"cen_y\"], label=\"center y\")\n",
    "plt.plot(mc[\"time\"], mc[\"cen_z\"], label=\"center z\")\n",
    "plt.legend()"
   ]
  },
  {
   "cell_type": "code",
   "execution_count": 189,
   "metadata": {
    "collapsed": false,
    "pycharm": {
     "name": "#%%\n"
    }
   },
   "outputs": [
    {
     "data": {
      "text/html": [
       "<div>\n",
       "<style scoped>\n",
       "    .dataframe tbody tr th:only-of-type {\n",
       "        vertical-align: middle;\n",
       "    }\n",
       "\n",
       "    .dataframe tbody tr th {\n",
       "        vertical-align: top;\n",
       "    }\n",
       "\n",
       "    .dataframe thead th {\n",
       "        text-align: right;\n",
       "    }\n",
       "</style>\n",
       "<table border=\"1\" class=\"dataframe\">\n",
       "  <thead>\n",
       "    <tr style=\"text-align: right;\">\n",
       "      <th></th>\n",
       "      <th>sys_time</th>\n",
       "      <th>e_fr</th>\n",
       "      <th>e_fl</th>\n",
       "      <th>e_rr</th>\n",
       "      <th>e_rl</th>\n",
       "      <th>rtc</th>\n",
       "      <th>mils</th>\n",
       "      <th>sync</th>\n",
       "      <th>time</th>\n",
       "    </tr>\n",
       "  </thead>\n",
       "  <tbody>\n",
       "    <tr>\n",
       "      <th>607</th>\n",
       "      <td>2022-06-23 09:53:21.983740</td>\n",
       "      <td>0</td>\n",
       "      <td>0</td>\n",
       "      <td>0</td>\n",
       "      <td>0</td>\n",
       "      <td>2019-01-01 05.31.27.000000 AM</td>\n",
       "      <td>88258</td>\n",
       "      <td>1</td>\n",
       "      <td>2022-06-23 09:53:21.904</td>\n",
       "    </tr>\n",
       "    <tr>\n",
       "      <th>608</th>\n",
       "      <td>2022-06-23 09:53:21.984242</td>\n",
       "      <td>0</td>\n",
       "      <td>0</td>\n",
       "      <td>0</td>\n",
       "      <td>0</td>\n",
       "      <td>2019-01-01 05.31.27.000000 AM</td>\n",
       "      <td>88268</td>\n",
       "      <td>1</td>\n",
       "      <td>2022-06-23 09:53:21.914</td>\n",
       "    </tr>\n",
       "    <tr>\n",
       "      <th>609</th>\n",
       "      <td>2022-06-23 09:53:21.984764</td>\n",
       "      <td>0</td>\n",
       "      <td>0</td>\n",
       "      <td>0</td>\n",
       "      <td>0</td>\n",
       "      <td>2019-01-01 05.31.27.000000 AM</td>\n",
       "      <td>88278</td>\n",
       "      <td>1</td>\n",
       "      <td>2022-06-23 09:53:21.924</td>\n",
       "    </tr>\n",
       "    <tr>\n",
       "      <th>610</th>\n",
       "      <td>2022-06-23 09:53:21.985264</td>\n",
       "      <td>0</td>\n",
       "      <td>0</td>\n",
       "      <td>0</td>\n",
       "      <td>0</td>\n",
       "      <td>2019-01-01 05.31.27.000000 AM</td>\n",
       "      <td>88288</td>\n",
       "      <td>1</td>\n",
       "      <td>2022-06-23 09:53:21.934</td>\n",
       "    </tr>\n",
       "    <tr>\n",
       "      <th>611</th>\n",
       "      <td>2022-06-23 09:53:22.054762</td>\n",
       "      <td>0</td>\n",
       "      <td>0</td>\n",
       "      <td>0</td>\n",
       "      <td>0</td>\n",
       "      <td>2019-01-01 05.31.27.000000 AM</td>\n",
       "      <td>88298</td>\n",
       "      <td>1</td>\n",
       "      <td>2022-06-23 09:53:21.944</td>\n",
       "    </tr>\n",
       "    <tr>\n",
       "      <th>...</th>\n",
       "      <td>...</td>\n",
       "      <td>...</td>\n",
       "      <td>...</td>\n",
       "      <td>...</td>\n",
       "      <td>...</td>\n",
       "      <td>...</td>\n",
       "      <td>...</td>\n",
       "      <td>...</td>\n",
       "      <td>...</td>\n",
       "    </tr>\n",
       "    <tr>\n",
       "      <th>5408</th>\n",
       "      <td>2022-06-23 09:54:10.017709</td>\n",
       "      <td>-1453</td>\n",
       "      <td>251</td>\n",
       "      <td>-331</td>\n",
       "      <td>-1808</td>\n",
       "      <td>2019-01-01 05.32.15.000000 AM</td>\n",
       "      <td>136301</td>\n",
       "      <td>1</td>\n",
       "      <td>2022-06-23 09:54:09.947</td>\n",
       "    </tr>\n",
       "    <tr>\n",
       "      <th>5409</th>\n",
       "      <td>2022-06-23 09:54:10.018210</td>\n",
       "      <td>-1453</td>\n",
       "      <td>251</td>\n",
       "      <td>-331</td>\n",
       "      <td>-1808</td>\n",
       "      <td>2019-01-01 05.32.16.000000 AM</td>\n",
       "      <td>136311</td>\n",
       "      <td>1</td>\n",
       "      <td>2022-06-23 09:54:09.957</td>\n",
       "    </tr>\n",
       "    <tr>\n",
       "      <th>5410</th>\n",
       "      <td>2022-06-23 09:54:10.018712</td>\n",
       "      <td>-1453</td>\n",
       "      <td>251</td>\n",
       "      <td>-331</td>\n",
       "      <td>-1808</td>\n",
       "      <td>2019-01-01 05.32.16.000000 AM</td>\n",
       "      <td>136321</td>\n",
       "      <td>1</td>\n",
       "      <td>2022-06-23 09:54:09.967</td>\n",
       "    </tr>\n",
       "    <tr>\n",
       "      <th>5411</th>\n",
       "      <td>2022-06-23 09:54:10.018712</td>\n",
       "      <td>-1453</td>\n",
       "      <td>251</td>\n",
       "      <td>-331</td>\n",
       "      <td>-1808</td>\n",
       "      <td>2019-01-01 05.32.16.000000 AM</td>\n",
       "      <td>136331</td>\n",
       "      <td>1</td>\n",
       "      <td>2022-06-23 09:54:09.977</td>\n",
       "    </tr>\n",
       "    <tr>\n",
       "      <th>5412</th>\n",
       "      <td>2022-06-23 09:54:10.019212</td>\n",
       "      <td>-1453</td>\n",
       "      <td>251</td>\n",
       "      <td>-331</td>\n",
       "      <td>-1808</td>\n",
       "      <td>2019-01-01 05.32.16.000000 AM</td>\n",
       "      <td>136341</td>\n",
       "      <td>1</td>\n",
       "      <td>2022-06-23 09:54:09.987</td>\n",
       "    </tr>\n",
       "  </tbody>\n",
       "</table>\n",
       "<p>4806 rows × 9 columns</p>\n",
       "</div>"
      ],
      "text/plain": [
       "                        sys_time  e_fr  e_fl  e_rr  e_rl  \\\n",
       "607   2022-06-23 09:53:21.983740     0     0     0     0   \n",
       "608   2022-06-23 09:53:21.984242     0     0     0     0   \n",
       "609   2022-06-23 09:53:21.984764     0     0     0     0   \n",
       "610   2022-06-23 09:53:21.985264     0     0     0     0   \n",
       "611   2022-06-23 09:53:22.054762     0     0     0     0   \n",
       "...                          ...   ...   ...   ...   ...   \n",
       "5408  2022-06-23 09:54:10.017709 -1453   251  -331 -1808   \n",
       "5409  2022-06-23 09:54:10.018210 -1453   251  -331 -1808   \n",
       "5410  2022-06-23 09:54:10.018712 -1453   251  -331 -1808   \n",
       "5411  2022-06-23 09:54:10.018712 -1453   251  -331 -1808   \n",
       "5412  2022-06-23 09:54:10.019212 -1453   251  -331 -1808   \n",
       "\n",
       "                                rtc    mils  sync                    time  \n",
       "607   2019-01-01 05.31.27.000000 AM   88258     1 2022-06-23 09:53:21.904  \n",
       "608   2019-01-01 05.31.27.000000 AM   88268     1 2022-06-23 09:53:21.914  \n",
       "609   2019-01-01 05.31.27.000000 AM   88278     1 2022-06-23 09:53:21.924  \n",
       "610   2019-01-01 05.31.27.000000 AM   88288     1 2022-06-23 09:53:21.934  \n",
       "611   2019-01-01 05.31.27.000000 AM   88298     1 2022-06-23 09:53:21.944  \n",
       "...                             ...     ...   ...                     ...  \n",
       "5408  2019-01-01 05.32.15.000000 AM  136301     1 2022-06-23 09:54:09.947  \n",
       "5409  2019-01-01 05.32.16.000000 AM  136311     1 2022-06-23 09:54:09.957  \n",
       "5410  2019-01-01 05.32.16.000000 AM  136321     1 2022-06-23 09:54:09.967  \n",
       "5411  2019-01-01 05.32.16.000000 AM  136331     1 2022-06-23 09:54:09.977  \n",
       "5412  2019-01-01 05.32.16.000000 AM  136341     1 2022-06-23 09:54:09.987  \n",
       "\n",
       "[4806 rows x 9 columns]"
      ]
     },
     "execution_count": 189,
     "metadata": {},
     "output_type": "execute_result"
    }
   ],
   "source": [
    "\"\"\"resetting cart values to zero\"\"\"\n",
    "cart_df[\"e_fr\"] = cart_df[\"e_fr\"]- cart_df[\"e_fr\"].iloc[0]\n",
    "cart_df[\"e_fl\"] = cart_df[\"e_fl\"]- cart_df[\"e_fl\"].iloc[0]\n",
    "cart_df[\"e_rr\"] = cart_df[\"e_rr\"]- cart_df[\"e_rr\"].iloc[0]\n",
    "cart_df[\"e_rl\"] = cart_df[\"e_rl\"]- cart_df[\"e_rl\"].iloc[0]\n",
    "\n",
    "cart_df"
   ]
  },
  {
   "cell_type": "code",
   "execution_count": 190,
   "metadata": {
    "collapsed": false,
    "pycharm": {
     "name": "#%%\n"
    }
   },
   "outputs": [],
   "source": [
    "mils = np.arange(0, len(cart_df[\"e_fr\"])*10, 10)\n",
    "cart_df[\"mils\"] = mils\n",
    "cart_df[\"sys_time\"] = pd.to_datetime(cart_df[\"sys_time\"])"
   ]
  },
  {
   "cell_type": "markdown",
   "metadata": {
    "collapsed": false,
    "pycharm": {
     "name": "#%% md\n"
    }
   },
   "source": [
    "These are the parameters of the cart\n",
    "\n",
    "Diameter = 95 mm\n",
    "radius = 47.5\n",
    "wheel thickness = 45 mm\n",
    "gap between wheel and chassis = 6.5 mm\n",
    "angle between center of chassis and z-dir vector = 51.21 degrees\n",
    "distance between the wheel = 158 mm\n",
    "distance between the wheel and the center of the robot = 101.36 (li)\n"
   ]
  },
  {
   "cell_type": "code",
   "execution_count": 191,
   "metadata": {
    "collapsed": false,
    "pycharm": {
     "name": "#%%\n"
    }
   },
   "outputs": [],
   "source": [
    "\"\"\"circumfrence of the wheel\"\"\"\n",
    "\n",
    "cir_wheel = np.degrees(2*np.pi*(47.5/1000))\n",
    "cir_wheel\n",
    "radius = 47.5/1000\n",
    "\n",
    "lx = 79 #half of the distance between the wheels\n",
    "ly = 122.5/2\n",
    "\n",
    "lx = lx/1000\n",
    "ly = ly/1000"
   ]
  },
  {
   "cell_type": "markdown",
   "metadata": {
    "collapsed": false,
    "pycharm": {
     "name": "#%% md\n"
    }
   },
   "source": [
    "The encoder values will give 4000 values per revolution\n",
    "360/4000 = 0.09 degrees per encoder rotation value"
   ]
  },
  {
   "cell_type": "code",
   "execution_count": 192,
   "metadata": {
    "collapsed": false,
    "pycharm": {
     "name": "#%%\n"
    }
   },
   "outputs": [
    {
     "data": {
      "text/plain": [
       "607     0.0\n",
       "608     0.0\n",
       "609     0.0\n",
       "610     0.0\n",
       "611     0.0\n",
       "       ... \n",
       "5408    0.0\n",
       "5409    0.0\n",
       "5410    0.0\n",
       "5411    0.0\n",
       "5412    0.0\n",
       "Name: av_fl, Length: 4806, dtype: float64"
      ]
     },
     "execution_count": 192,
     "metadata": {},
     "output_type": "execute_result"
    }
   ],
   "source": [
    "\"\"\" angular velocity\"\"\"\n",
    "cart_df[\"av_fr\"] = (cart_df[\"e_fr\"]*0.09).diff()/0.01\n",
    "cart_df[\"av_fl\"] = (cart_df[\"e_fl\"]*0.09).diff()/0.01\n",
    "cart_df[\"av_rr\"] = (cart_df[\"e_rr\"]*0.09).diff()/0.01\n",
    "cart_df[\"av_rl\"] = (cart_df[\"e_rl\"]*0.09).diff()/0.01\n",
    "cart_df['av_fr'] = cart_df[\"av_fr\"].fillna(0)\n",
    "cart_df['av_fl'] = cart_df[\"av_fl\"].fillna(0)\n",
    "cart_df['av_rr'] = cart_df[\"av_rr\"].fillna(0)\n",
    "cart_df['av_rl'] = cart_df[\"av_rl\"].fillna(0)\n",
    "\n",
    "#converting them to radians\n",
    "cart_df['av_fr'] = cart_df[\"av_fr\"]* np.pi/180\n",
    "cart_df['av_fl'] = cart_df[\"av_fl\"]* np.pi/180\n",
    "cart_df['av_rr'] = cart_df[\"av_rr\"]* np.pi/180\n",
    "cart_df['av_rl'] = cart_df[\"av_rl\"]* np.pi/180\n",
    "\n",
    "cart_df[\"av_fl\"]"
   ]
  },
  {
   "cell_type": "code",
   "execution_count": 210,
   "metadata": {
    "collapsed": false,
    "pycharm": {
     "name": "#%%\n"
    }
   },
   "outputs": [],
   "source": [
    "# g1 = np.radians(-51.21)\n",
    "# g2 = np.radians(51.21)\n",
    "\n",
    "b1 = -np.radians(np.pi/2)\n",
    "b2 = np.radians(np.pi/2)\n",
    "b3 = b2\n",
    "b4 = b1\n",
    "\n",
    "\n",
    "g1 = np.pi/4\n",
    "g2 = -np.pi/4\n",
    "g3 = g1\n",
    "g4 = g2\n",
    "\n",
    "\n",
    "# a1 = np.pi/4\n",
    "# a2 = -np.pi/4\n",
    "# a3 = 3*np.pi/4\n",
    "# a4 = -3*np.pi/4\n",
    "\n",
    "a1 = np.radians(51.21)\n",
    "a2 = -np.radians(51.21)\n",
    "a3 = np.radians(51.21+90)\n",
    "a4 = -np.radians(51.21+90)\n",
    "\n",
    "\n",
    "li = 101.36/1000"
   ]
  },
  {
   "cell_type": "code",
   "execution_count": 211,
   "metadata": {
    "collapsed": false,
    "pycharm": {
     "name": "#%%\n"
    }
   },
   "outputs": [
    {
     "data": {
      "text/plain": [
       "array([[-0.01154502,  0.01154502, -0.01219606,  0.01219606],\n",
       "       [ 0.00183587,  0.00183587,  0.02248943,  0.02248943],\n",
       "       [ 0.15394828,  0.15394828, -0.16262961, -0.16262961]])"
      ]
     },
     "execution_count": 211,
     "metadata": {},
     "output_type": "execute_result"
    }
   ],
   "source": [
    "t = (-1/radius)*np.array([[np.cos(b1 - g1)/ np.sin(g1), np.sin(b1 - g1)/np.sin(g1), li * np.sin(b1 - g1 - a1)/np.sin(g1)],\n",
    "                         [np.cos(b2 - g2)/ np.sin(g2), np.sin(b2 - g2)/np.sin(g2), li * np.sin(b2 - g2 - a2)/np.sin(g2)],\n",
    "                         [np.cos(b3 - g3)/ np.sin(g3), np.sin(b3 - g3)/np.sin(g3), li * np.sin(b3 - g3 - a3)/np.sin(g3)],\n",
    "                         [np.cos(b4 - g4)/ np.sin(g4), np.sin(b4 - g4)/np.sin(g4), li * np.sin(b4 - g4 - a4)/np.sin(g4)]]\n",
    "                         )\n",
    "t\n",
    "pseudo_t = np.linalg.pinv(t)\n",
    "pseudo_t"
   ]
  },
  {
   "cell_type": "code",
   "execution_count": 212,
   "metadata": {
    "collapsed": false,
    "pycharm": {
     "name": "#%%\n"
    }
   },
   "outputs": [
    {
     "data": {
      "text/plain": [
       "array([[0., 0., 0.]])"
      ]
     },
     "execution_count": 212,
     "metadata": {},
     "output_type": "execute_result"
    }
   ],
   "source": [
    "val = pseudo_t @ np.array([[cart_df[\"av_fr\"].iloc[0]],[cart_df[\"av_fl\"].iloc[0]], [cart_df[\"av_rr\"].iloc[0]], [cart_df[\"av_rl\"].iloc[0]]])\n",
    "val.T"
   ]
  },
  {
   "cell_type": "code",
   "execution_count": 213,
   "metadata": {
    "pycharm": {
     "name": "#%%\n"
    }
   },
   "outputs": [
    {
     "data": {
      "text/plain": [
       "0.0"
      ]
     },
     "execution_count": 213,
     "metadata": {},
     "output_type": "execute_result"
    }
   ],
   "source": [
    "cart_df[\"av_fr\"].iloc[0]"
   ]
  },
  {
   "cell_type": "code",
   "execution_count": 214,
   "metadata": {
    "collapsed": false,
    "pycharm": {
     "name": "#%%\n"
    }
   },
   "outputs": [
    {
     "data": {
      "text/plain": [
       "array([[0.],\n",
       "       [0.],\n",
       "       [0.],\n",
       "       [0.]])"
      ]
     },
     "execution_count": 214,
     "metadata": {},
     "output_type": "execute_result"
    }
   ],
   "source": [
    "np.array([[cart_df[\"av_fr\"].iloc[0]],[cart_df[\"av_fl\"].iloc[0]], [cart_df[\"av_rr\"].iloc[0]], [cart_df[\"av_rl\"].iloc[0]]])"
   ]
  },
  {
   "cell_type": "code",
   "execution_count": 215,
   "metadata": {
    "collapsed": false,
    "pycharm": {
     "name": "#%%\n"
    }
   },
   "outputs": [],
   "source": [
    "_val = []\n",
    "for i in range(len(cart_df[\"e_fl\"])):\n",
    "    _v = pseudo_t @ np.array([[cart_df[\"av_fr\"].iloc[i]],[cart_df[\"av_fl\"].iloc[i]], [cart_df[\"av_rr\"].iloc[i]], [cart_df[\"av_rl\"].iloc[i]]])\n",
    "    _val.append(_v.T[0])\n",
    "\n",
    "cart_df[[\"cal_vx\", \"cal_vy\", \"cal_w\"]] = _val\n",
    "# _val"
   ]
  },
  {
   "cell_type": "code",
   "execution_count": 216,
   "metadata": {
    "collapsed": false,
    "pycharm": {
     "name": "#%%\n"
    }
   },
   "outputs": [],
   "source": [
    "\"\"\"finding vx, vy, w\"\"\"\n",
    "\n",
    "cart_df[\"vx\"] = (cart_df[\"av_fl\"] + cart_df[\"av_fr\"] + cart_df[\"av_rl\"] + cart_df[\"av_rr\"])*(radius/4)\n",
    "cart_df[\"vy\"] = (- cart_df[\"av_fl\"] + cart_df[\"av_fr\"] + cart_df[\"av_rl\"] - cart_df[\"av_rr\"])*(radius/4)\n",
    "cart_df[\"w\"] = (- cart_df[\"av_fl\"] + cart_df[\"av_fr\"] - cart_df[\"av_rl\"] + cart_df[\"av_rr\"])*(radius/(4*(lx + ly)))"
   ]
  },
  {
   "cell_type": "code",
   "execution_count": 217,
   "metadata": {
    "collapsed": false,
    "pycharm": {
     "name": "#%%\n"
    }
   },
   "outputs": [
    {
     "data": {
      "text/plain": [
       "[<matplotlib.lines.Line2D at 0x1dbb7ff4048>]"
      ]
     },
     "execution_count": 217,
     "metadata": {},
     "output_type": "execute_result"
    },
    {
     "data": {
      "image/png": "[encoded data removed]",
      "text/plain": [
       "<Figure size 432x288 with 1 Axes>"
      ]
     },
     "metadata": {
      "needs_background": "light"
     },
     "output_type": "display_data"
    }
   ],
   "source": [
    "plt.plot(cart_df[\"sys_time\"], cart_df[\"vy\"])\n",
    "# plt.plot(cart_df[\"vx\"])"
   ]
  },
  {
   "cell_type": "code",
   "execution_count": 218,
   "metadata": {
    "collapsed": false,
    "pycharm": {
     "name": "#%%\n"
    }
   },
   "outputs": [],
   "source": [
    "\"\"\"calculating displacement\n",
    "s=(1/2)* (v+u)t\n",
    "v = current velocityn\n",
    "u = initial velocity\n",
    "t = time\n",
    "s = displacement\n",
    "\"\"\"\n",
    "\n",
    "_xval = []\n",
    "_yval = []\n",
    "xf_disp = 0\n",
    "yf_disp = 0\n",
    "for i in range(len(cart_df[\"vx\"])):\n",
    "    if i == 0:\n",
    "        _xval.append(0)\n",
    "        _yval.append(0)\n",
    "    else:\n",
    "        x_disp = 0.5*(cart_df[\"vx\"].iloc[i] + cart_df[\"vx\"].iloc[i-1])*0.01\n",
    "        y_disp = 0.5*(cart_df[\"vy\"].iloc[i] + cart_df[\"vy\"].iloc[i-1])*0.01\n",
    "        # print(y_disp)\n",
    "        xf_disp = xf_disp+x_disp\n",
    "        yf_disp = yf_disp+y_disp\n",
    "        _xval.append(xf_disp)\n",
    "        _yval.append(yf_disp)\n",
    "\n",
    "cart_df[\"x_val\"] = _xval\n",
    "cart_df[\"y_val\"] = _yval\n",
    "# cart_df[\"y_val\"]"
   ]
  },
  {
   "cell_type": "code",
   "execution_count": 219,
   "metadata": {
    "collapsed": false,
    "pycharm": {
     "name": "#%%\n"
    }
   },
   "outputs": [],
   "source": [
    "\"\"\"calculating displacement for calculated coordinates\n",
    "\n",
    "\"\"\"\n",
    "_xval = []\n",
    "_yval = []\n",
    "xf_disp = 0\n",
    "yf_disp = 0\n",
    "for i in range(len(cart_df[\"vx\"])):\n",
    "    if i == 0:\n",
    "        _xval.append(0)\n",
    "        _yval.append(0)\n",
    "    else:\n",
    "        x_disp = 0.5*(cart_df[\"cal_vx\"].iloc[i] + cart_df[\"cal_vx\"].iloc[i-1])*0.01\n",
    "        y_disp = 0.5*(cart_df[\"cal_vy\"].iloc[i] + cart_df[\"cal_vy\"].iloc[i-1])*0.01\n",
    "        # print(x_disp)\n",
    "        xf_disp = xf_disp+x_disp\n",
    "        yf_disp = yf_disp+y_disp\n",
    "        _xval.append(xf_disp)\n",
    "        _yval.append(yf_disp)\n",
    "\n",
    "cart_df[\"cal_x\"] = _xval\n",
    "cart_df[\"cal_y\"] = _yval\n"
   ]
  },
  {
   "cell_type": "code",
   "execution_count": 220,
   "metadata": {
    "collapsed": false,
    "pycharm": {
     "name": "#%%\n"
    }
   },
   "outputs": [
    {
     "data": {
      "text/plain": [
       "<matplotlib.legend.Legend at 0x1dbb6131308>"
      ]
     },
     "execution_count": 220,
     "metadata": {},
     "output_type": "execute_result"
    },
    {
     "data": {
      "image/png": "[encoded data removed]",
      "text/plain": [
       "<Figure size 432x288 with 1 Axes>"
      ]
     },
     "metadata": {
      "needs_background": "light"
     },
     "output_type": "display_data"
    }
   ],
   "source": [
    "# plt.plot(cart_df[\"sys_time\"], cart_df[\"x_val\"], label = \"ideal x\")\n",
    "plt.plot(cart_df[\"sys_time\"],cart_df[\"cal_x\"], label = \"calculated x\")\n",
    "plt.plot(cart_df[\"sys_time\"], cart_df[\"x_val\"], label = \"ideal x\")\n",
    "plt.legend()"
   ]
  },
  {
   "cell_type": "code",
   "execution_count": 221,
   "metadata": {
    "pycharm": {
     "name": "#%%\n"
    }
   },
   "outputs": [
    {
     "data": {
      "text/plain": [
       "<matplotlib.legend.Legend at 0x1dbb75ecc88>"
      ]
     },
     "execution_count": 221,
     "metadata": {},
     "output_type": "execute_result"
    },
    {
     "data": {
      "image/png": "[encoded data removed]",
      "text/plain": [
       "<Figure size 432x288 with 1 Axes>"
      ]
     },
     "metadata": {
      "needs_background": "light"
     },
     "output_type": "display_data"
    }
   ],
   "source": [
    "plt.plot(cart_df[\"sys_time\"],cart_df[\"cal_y\"], label = \"calculated y\")\n",
    "plt.plot(cart_df[\"sys_time\"], cart_df[\"y_val\"], label = \"ideal y\")\n",
    "plt.legend()"
   ]
  },
  {
   "cell_type": "code",
   "execution_count": 205,
   "metadata": {
    "collapsed": false,
    "pycharm": {
     "name": "#%%\n"
    }
   },
   "outputs": [
    {
     "data": {
      "text/plain": [
       "<matplotlib.legend.Legend at 0x1dbb783be88>"
      ]
     },
     "execution_count": 205,
     "metadata": {},
     "output_type": "execute_result"
    },
    {
     "data": {
      "image/png": "[encoded data removed]",
      "text/plain": [
       "<Figure size 432x288 with 1 Axes>"
      ]
     },
     "metadata": {
      "needs_background": "light"
     },
     "output_type": "display_data"
    }
   ],
   "source": [
    "plt.plot(cart_df[\"sys_time\"], cart_df[\"x_val\"], label = \"cart y\")\n",
    "plt.plot(mc[\"time\"], mc[\"org_z\"], label  = \"mc_x\")\n",
    "plt.legend()"
   ]
  },
  {
   "cell_type": "code",
   "execution_count": 206,
   "metadata": {
    "collapsed": false,
    "pycharm": {
     "name": "#%%\n"
    }
   },
   "outputs": [],
   "source": [
    "_t2 = []\n",
    "for i in cart_df[\"sys_time\"]:\n",
    "    _tt = mc[\"time\"][0]-i\n",
    "    # print(_tt)\n",
    "    _t2.append(_tt.total_seconds())\n"
   ]
  },
  {
   "cell_type": "code",
   "execution_count": 207,
   "metadata": {
    "collapsed": false,
    "pycharm": {
     "name": "#%%\n"
    }
   },
   "outputs": [
    {
     "name": "stdout",
     "output_type": "stream",
     "text": [
      "-0.055481\n"
     ]
    },
    {
     "data": {
      "image/png": "[encoded data removed]",
      "text/plain": [
       "<Figure size 432x288 with 1 Axes>"
      ]
     },
     "metadata": {
      "needs_background": "light"
     },
     "output_type": "display_data"
    }
   ],
   "source": [
    "offset = cart_df[\"y_val\"].iloc[0] - mc[\"org_x\"].iloc[0]\n",
    "plt.plot(cart_df[\"sys_time\"], cart_df[\"y_val\"], label = \"cart y\")\n",
    "plt.plot(mc[\"time\"], mc[\"org_x\"] +offset, label  = \"mc_x\")\n",
    "plt.savefig(\"lateral.png\")\n",
    "plt.legend()\n",
    "print(offset)"
   ]
  },
  {
   "cell_type": "code",
   "execution_count": 225,
   "metadata": {
    "collapsed": false,
    "pycharm": {
     "name": "#%%\n"
    }
   },
   "outputs": [
    {
     "data": {
      "image/png": "[encoded data removed]",
      "text/plain": [
       "<Figure size 432x288 with 1 Axes>"
      ]
     },
     "metadata": {
      "needs_background": "light"
     },
     "output_type": "display_data"
    }
   ],
   "source": [
    "offset = cart_df[\"x_val\"].iloc[0] - mc[\"org_z\"].iloc[0]\n",
    "plt.plot(cart_df[\"time\"], cart_df[\"x_val\"], label = \"cart x\")\n",
    "plt.plot(cart_df[\"sys_time\"], cart_df[\"x_val\"], label = \"cart x systime\")\n",
    "plt.plot(mc[\"time\"], mc[\"org_z\"] +offset, label  = \"mc_y\")\n",
    "# \n",
    "\n",
    "plt.legend()\n",
    "plt.savefig(\"transversal.png\")"
   ]
  },
  {
   "cell_type": "code",
   "execution_count": 209,
   "metadata": {
    "collapsed": false,
    "pycharm": {
     "name": "#%%\n"
    }
   },
   "outputs": [
    {
     "name": "stdout",
     "output_type": "stream",
     "text": [
      "2022-06-23 09:53:21.904000\n",
      "2022-06-23 09:53:21.904000\n"
     ]
    },
    {
     "ename": "KeyError",
     "evalue": "0",
     "output_type": "error",
     "traceback": [
      "\u001B[1;31m---------------------------------------------------------------------------\u001B[0m",
      "\u001B[1;31mValueError\u001B[0m                                Traceback (most recent call last)",
      "\u001B[1;32mc:\\Users\\CMC\\anaconda3\\envs\\py37t2\\lib\\site-packages\\pandas\\core\\indexes\\range.py\u001B[0m in \u001B[0;36mget_loc\u001B[1;34m(self, key, method, tolerance)\u001B[0m\n\u001B[0;32m    384\u001B[0m                 \u001B[1;32mtry\u001B[0m\u001B[1;33m:\u001B[0m\u001B[1;33m\u001B[0m\u001B[1;33m\u001B[0m\u001B[0m\n\u001B[1;32m--> 385\u001B[1;33m                     \u001B[1;32mreturn\u001B[0m \u001B[0mself\u001B[0m\u001B[1;33m.\u001B[0m\u001B[0m_range\u001B[0m\u001B[1;33m.\u001B[0m\u001B[0mindex\u001B[0m\u001B[1;33m(\u001B[0m\u001B[0mnew_key\u001B[0m\u001B[1;33m)\u001B[0m\u001B[1;33m\u001B[0m\u001B[1;33m\u001B[0m\u001B[0m\n\u001B[0m\u001B[0;32m    386\u001B[0m                 \u001B[1;32mexcept\u001B[0m \u001B[0mValueError\u001B[0m \u001B[1;32mas\u001B[0m \u001B[0merr\u001B[0m\u001B[1;33m:\u001B[0m\u001B[1;33m\u001B[0m\u001B[1;33m\u001B[0m\u001B[0m\n",
      "\u001B[1;31mValueError\u001B[0m: 0 is not in range",
      "\nThe above exception was the direct cause of the following exception:\n",
      "\u001B[1;31mKeyError\u001B[0m                                  Traceback (most recent call last)",
      "\u001B[1;32m~\\AppData\\Local\\Temp/ipykernel_18176/1415792663.py\u001B[0m in \u001B[0;36m<module>\u001B[1;34m\u001B[0m\n\u001B[0;32m      5\u001B[0m \u001B[0mresult_index\u001B[0m \u001B[1;33m=\u001B[0m \u001B[0mcart_df\u001B[0m\u001B[1;33m[\u001B[0m\u001B[1;34m'sys_time'\u001B[0m\u001B[1;33m]\u001B[0m\u001B[1;33m.\u001B[0m\u001B[0msub\u001B[0m\u001B[1;33m(\u001B[0m\u001B[0mmc\u001B[0m\u001B[1;33m[\u001B[0m\u001B[1;34m\"time\"\u001B[0m\u001B[1;33m]\u001B[0m\u001B[1;33m.\u001B[0m\u001B[0miloc\u001B[0m\u001B[1;33m[\u001B[0m\u001B[1;36m0\u001B[0m\u001B[1;33m]\u001B[0m\u001B[1;33m)\u001B[0m\u001B[1;33m.\u001B[0m\u001B[0mabs\u001B[0m\u001B[1;33m(\u001B[0m\u001B[1;33m)\u001B[0m\u001B[1;33m.\u001B[0m\u001B[0midxmin\u001B[0m\u001B[1;33m(\u001B[0m\u001B[1;33m)\u001B[0m\u001B[1;33m\u001B[0m\u001B[1;33m\u001B[0m\u001B[0m\n\u001B[0;32m      6\u001B[0m \u001B[1;33m\u001B[0m\u001B[0m\n\u001B[1;32m----> 7\u001B[1;33m \u001B[0mcart_df\u001B[0m\u001B[1;33m.\u001B[0m\u001B[0miloc\u001B[0m\u001B[1;33m[\u001B[0m\u001B[1;33m(\u001B[0m\u001B[0mcart_df\u001B[0m\u001B[1;33m[\u001B[0m\u001B[1;34m'sys_time'\u001B[0m\u001B[1;33m]\u001B[0m \u001B[1;33m-\u001B[0m \u001B[0mmc\u001B[0m\u001B[1;33m[\u001B[0m\u001B[1;34m\"time\"\u001B[0m\u001B[1;33m]\u001B[0m\u001B[1;33m.\u001B[0m\u001B[0miloc\u001B[0m\u001B[1;33m[\u001B[0m\u001B[1;36m0\u001B[0m\u001B[1;33m]\u001B[0m\u001B[1;33m)\u001B[0m\u001B[1;33m.\u001B[0m\u001B[0mabs\u001B[0m\u001B[1;33m(\u001B[0m\u001B[1;33m)\u001B[0m\u001B[1;33m.\u001B[0m\u001B[0margsort\u001B[0m\u001B[1;33m(\u001B[0m\u001B[1;33m)\u001B[0m\u001B[1;33m[\u001B[0m\u001B[1;36m0\u001B[0m\u001B[1;33m]\u001B[0m\u001B[1;33m,\u001B[0m\u001B[1;33m:\u001B[0m\u001B[1;33m]\u001B[0m\u001B[1;33m\u001B[0m\u001B[1;33m\u001B[0m\u001B[0m\n\u001B[0m\u001B[0;32m      8\u001B[0m \u001B[1;31m# (cart_df['sys_time'] - mc[\"time\"][0]).abs()\u001B[0m\u001B[1;33m\u001B[0m\u001B[1;33m\u001B[0m\u001B[1;33m\u001B[0m\u001B[0m\n\u001B[0;32m      9\u001B[0m \u001B[0mresult_index\u001B[0m\u001B[1;33m\u001B[0m\u001B[1;33m\u001B[0m\u001B[0m\n",
      "\u001B[1;32mc:\\Users\\CMC\\anaconda3\\envs\\py37t2\\lib\\site-packages\\pandas\\core\\series.py\u001B[0m in \u001B[0;36m__getitem__\u001B[1;34m(self, key)\u001B[0m\n\u001B[0;32m    940\u001B[0m \u001B[1;33m\u001B[0m\u001B[0m\n\u001B[0;32m    941\u001B[0m         \u001B[1;32melif\u001B[0m \u001B[0mkey_is_scalar\u001B[0m\u001B[1;33m:\u001B[0m\u001B[1;33m\u001B[0m\u001B[1;33m\u001B[0m\u001B[0m\n\u001B[1;32m--> 942\u001B[1;33m             \u001B[1;32mreturn\u001B[0m \u001B[0mself\u001B[0m\u001B[1;33m.\u001B[0m\u001B[0m_get_value\u001B[0m\u001B[1;33m(\u001B[0m\u001B[0mkey\u001B[0m\u001B[1;33m)\u001B[0m\u001B[1;33m\u001B[0m\u001B[1;33m\u001B[0m\u001B[0m\n\u001B[0m\u001B[0;32m    943\u001B[0m \u001B[1;33m\u001B[0m\u001B[0m\n\u001B[0;32m    944\u001B[0m         \u001B[1;32mif\u001B[0m \u001B[0mis_hashable\u001B[0m\u001B[1;33m(\u001B[0m\u001B[0mkey\u001B[0m\u001B[1;33m)\u001B[0m\u001B[1;33m:\u001B[0m\u001B[1;33m\u001B[0m\u001B[1;33m\u001B[0m\u001B[0m\n",
      "\u001B[1;32mc:\\Users\\CMC\\anaconda3\\envs\\py37t2\\lib\\site-packages\\pandas\\core\\series.py\u001B[0m in \u001B[0;36m_get_value\u001B[1;34m(self, label, takeable)\u001B[0m\n\u001B[0;32m   1049\u001B[0m \u001B[1;33m\u001B[0m\u001B[0m\n\u001B[0;32m   1050\u001B[0m         \u001B[1;31m# Similar to Index.get_value, but we do not fall back to positional\u001B[0m\u001B[1;33m\u001B[0m\u001B[1;33m\u001B[0m\u001B[1;33m\u001B[0m\u001B[0m\n\u001B[1;32m-> 1051\u001B[1;33m         \u001B[0mloc\u001B[0m \u001B[1;33m=\u001B[0m \u001B[0mself\u001B[0m\u001B[1;33m.\u001B[0m\u001B[0mindex\u001B[0m\u001B[1;33m.\u001B[0m\u001B[0mget_loc\u001B[0m\u001B[1;33m(\u001B[0m\u001B[0mlabel\u001B[0m\u001B[1;33m)\u001B[0m\u001B[1;33m\u001B[0m\u001B[1;33m\u001B[0m\u001B[0m\n\u001B[0m\u001B[0;32m   1052\u001B[0m         \u001B[1;32mreturn\u001B[0m \u001B[0mself\u001B[0m\u001B[1;33m.\u001B[0m\u001B[0mindex\u001B[0m\u001B[1;33m.\u001B[0m\u001B[0m_get_values_for_loc\u001B[0m\u001B[1;33m(\u001B[0m\u001B[0mself\u001B[0m\u001B[1;33m,\u001B[0m \u001B[0mloc\u001B[0m\u001B[1;33m,\u001B[0m \u001B[0mlabel\u001B[0m\u001B[1;33m)\u001B[0m\u001B[1;33m\u001B[0m\u001B[1;33m\u001B[0m\u001B[0m\n\u001B[0;32m   1053\u001B[0m \u001B[1;33m\u001B[0m\u001B[0m\n",
      "\u001B[1;32mc:\\Users\\CMC\\anaconda3\\envs\\py37t2\\lib\\site-packages\\pandas\\core\\indexes\\range.py\u001B[0m in \u001B[0;36mget_loc\u001B[1;34m(self, key, method, tolerance)\u001B[0m\n\u001B[0;32m    385\u001B[0m                     \u001B[1;32mreturn\u001B[0m \u001B[0mself\u001B[0m\u001B[1;33m.\u001B[0m\u001B[0m_range\u001B[0m\u001B[1;33m.\u001B[0m\u001B[0mindex\u001B[0m\u001B[1;33m(\u001B[0m\u001B[0mnew_key\u001B[0m\u001B[1;33m)\u001B[0m\u001B[1;33m\u001B[0m\u001B[1;33m\u001B[0m\u001B[0m\n\u001B[0;32m    386\u001B[0m                 \u001B[1;32mexcept\u001B[0m \u001B[0mValueError\u001B[0m \u001B[1;32mas\u001B[0m \u001B[0merr\u001B[0m\u001B[1;33m:\u001B[0m\u001B[1;33m\u001B[0m\u001B[1;33m\u001B[0m\u001B[0m\n\u001B[1;32m--> 387\u001B[1;33m                     \u001B[1;32mraise\u001B[0m \u001B[0mKeyError\u001B[0m\u001B[1;33m(\u001B[0m\u001B[0mkey\u001B[0m\u001B[1;33m)\u001B[0m \u001B[1;32mfrom\u001B[0m \u001B[0merr\u001B[0m\u001B[1;33m\u001B[0m\u001B[1;33m\u001B[0m\u001B[0m\n\u001B[0m\u001B[0;32m    388\u001B[0m             \u001B[1;32mraise\u001B[0m \u001B[0mKeyError\u001B[0m\u001B[1;33m(\u001B[0m\u001B[0mkey\u001B[0m\u001B[1;33m)\u001B[0m\u001B[1;33m\u001B[0m\u001B[1;33m\u001B[0m\u001B[0m\n\u001B[0;32m    389\u001B[0m         \u001B[1;32mreturn\u001B[0m \u001B[0msuper\u001B[0m\u001B[1;33m(\u001B[0m\u001B[1;33m)\u001B[0m\u001B[1;33m.\u001B[0m\u001B[0mget_loc\u001B[0m\u001B[1;33m(\u001B[0m\u001B[0mkey\u001B[0m\u001B[1;33m,\u001B[0m \u001B[0mmethod\u001B[0m\u001B[1;33m=\u001B[0m\u001B[0mmethod\u001B[0m\u001B[1;33m,\u001B[0m \u001B[0mtolerance\u001B[0m\u001B[1;33m=\u001B[0m\u001B[0mtolerance\u001B[0m\u001B[1;33m)\u001B[0m\u001B[1;33m\u001B[0m\u001B[1;33m\u001B[0m\u001B[0m\n",
      "\u001B[1;31mKeyError\u001B[0m: 0"
     ]
    }
   ],
   "source": [
    "# print (cart_df[\"sys_time\"].get_loc(mc[\"time\"][0], method='nearest'))\n",
    "print(cart_df[\"time\"].iloc[0])\n",
    "print(mc[\"time\"].iloc[0])\n",
    "\n",
    "result_index = cart_df['sys_time'].sub(mc[\"time\"].iloc[0]).abs().idxmin()\n",
    "\n",
    "cart_df.iloc[(cart_df['sys_time'] - mc[\"time\"].iloc[0]).abs().argsort()[0],:]\n",
    "# (cart_df['sys_time'] - mc[\"time\"][0]).abs()\n",
    "result_index"
   ]
  },
  {
   "cell_type": "code",
   "execution_count": null,
   "metadata": {
    "collapsed": false,
    "pycharm": {
     "name": "#%%\n"
    }
   },
   "outputs": [],
   "source": [
    "# cart_df[\"diff\"] = cart_df[\"y_val\"]- cart_df[\"center_x\"] - 0.34"
   ]
  },
  {
   "cell_type": "code",
   "execution_count": null,
   "metadata": {
    "collapsed": false,
    "pycharm": {
     "name": "#%%\n"
    }
   },
   "outputs": [],
   "source": [
    "rw = []\n",
    "vr = []\n",
    "for i in range(len(cart_df[\"av_rl\"])):\n",
    "    _vy = cart_df[\"cal_vy\"].iloc[i]\n",
    "    _vx = cart_df[\"cal_vx\"].iloc[i]\n",
    "    rw.append(np.arctan2(_vy, _vx))\n",
    "    vr.append(np.linalg.norm((_vx, _vy)))\n",
    "cart_df[\"rw\"] = rw\n",
    "cart_df[\"vr\"] = vr"
   ]
  },
  {
   "cell_type": "code",
   "execution_count": null,
   "metadata": {
    "collapsed": false,
    "pycharm": {
     "name": "#%%\n"
    }
   },
   "outputs": [
    {
     "data": {
      "text/plain": [
       "431     0.0\n",
       "432     0.0\n",
       "433     0.0\n",
       "434     0.0\n",
       "435     0.0\n",
       "       ... \n",
       "2492    0.0\n",
       "2493    0.0\n",
       "2494    0.0\n",
       "2495    0.0\n",
       "2496    0.0\n",
       "Name: rw, Length: 2066, dtype: float64"
      ]
     },
     "execution_count": 170,
     "metadata": {},
     "output_type": "execute_result"
    }
   ],
   "source": [
    "cart_df[\"rw\"]"
   ]
  },
  {
   "cell_type": "code",
   "execution_count": null,
   "metadata": {
    "collapsed": false,
    "pycharm": {
     "name": "#%%\n"
    }
   },
   "outputs": [
    {
     "data": {
      "text/plain": [
       "[<matplotlib.lines.Line2D at 0x1dbb62e4cc8>]"
      ]
     },
     "execution_count": 171,
     "metadata": {},
     "output_type": "execute_result"
    },
    {
     "data": {
      "image/png": "[encoded data removed]",
      "text/plain": [
       "<Figure size 432x288 with 1 Axes>"
      ]
     },
     "metadata": {
      "needs_background": "light"
     },
     "output_type": "display_data"
    }
   ],
   "source": [
    "plt.plot(cart_df[\"rw\"])"
   ]
  },
  {
   "cell_type": "code",
   "execution_count": null,
   "metadata": {
    "collapsed": false,
    "pycharm": {
     "name": "#%%\n"
    }
   },
   "outputs": [
    {
     "data": {
      "text/plain": [
       "431     0.0\n",
       "432     0.0\n",
       "433     0.0\n",
       "434     0.0\n",
       "435     0.0\n",
       "       ... \n",
       "2492    0.0\n",
       "2493    0.0\n",
       "2494    0.0\n",
       "2495    0.0\n",
       "2496    0.0\n",
       "Name: rw, Length: 2066, dtype: float64"
      ]
     },
     "execution_count": 172,
     "metadata": {},
     "output_type": "execute_result"
    }
   ],
   "source": [
    "cart_df[\"rw\"]"
   ]
  },
  {
   "cell_type": "code",
   "execution_count": null,
   "metadata": {
    "pycharm": {
     "name": "#%%\n"
    }
   },
   "outputs": [],
   "source": []
  }
 ],
 "metadata": {
  "kernelspec": {
   "display_name": "Python 3.7.11 ('py37t2')",
   "language": "python",
   "name": "python3"
  },
  "language_info": {
   "codemirror_mode": {
    "name": "ipython",
    "version": 3
   },
   "file_extension": ".py",
   "mimetype": "text/x-python",
   "name": "python",
   "nbconvert_exporter": "python",
   "pygments_lexer": "ipython3",
   "version": "3.7.11"
  },
  "vscode": {
   "interpreter": {
    "hash": "07cf8e4ec2f40bff32486e8c8f167870d55b0d1fe8557518ec615be206ad7cc6"
   }
  }
 },
 "nbformat": 4,
 "nbformat_minor": 0
}