{
 "cells": [
  {
   "cell_type": "code",
   "execution_count": 43,
   "outputs": [],
   "source": [
    "import pandas as pd\n",
    "from datetime import datetime\n",
    "import numpy as np\n",
    "import csv"
   ],
   "metadata": {
    "collapsed": false,
    "pycharm": {
     "name": "#%%\n"
    }
   }
  },
  {
   "cell_type": "code",
   "execution_count": 44,
   "outputs": [],
   "source": [
    "pth = \"..//linear_forward_mc.csv\"\n",
    "raw = pd.read_csv(pth)\n",
    "cols_list = raw.columns\n",
    "inx = [i for i,x in enumerate(cols_list) if x==\"Capture Start Time\"] # => [1, 3]\n",
    "st_time = cols_list[inx[0]+1]\n"
   ],
   "metadata": {
    "collapsed": false,
    "pycharm": {
     "name": "#%%\n"
    }
   }
  },
  {
   "cell_type": "code",
   "execution_count": 45,
   "outputs": [],
   "source": [
    "mr_inx = pd.read_csv(pth, skiprows=3)\n",
    "markers_raw = mr_inx.columns\n",
    "marker_offset = 2 #for ignoring time and frame cols\n",
    "markers_raw = markers_raw[marker_offset:]\n",
    "col_names = []\n",
    "for i in range(0, len(markers_raw), 3):\n",
    "    col_names.append(markers_raw[i].split(\":\")[1])"
   ],
   "metadata": {
    "collapsed": false,
    "pycharm": {
     "name": "#%%\n"
    }
   }
  },
  {
   "cell_type": "code",
   "execution_count": 46,
   "outputs": [],
   "source": [
    "df_headers = [\"frame\", \"seconds\"]\n",
    "for i in col_names:\n",
    "    df_headers.append(i+\"_x\")\n",
    "    df_headers.append(i+\"_y\")\n",
    "    df_headers.append(i+\"_z\")"
   ],
   "metadata": {
    "collapsed": false,
    "pycharm": {
     "name": "#%%\n"
    }
   }
  },
  {
   "cell_type": "code",
   "execution_count": 47,
   "outputs": [
    {
     "data": {
      "text/plain": "['frame',\n 'seconds',\n 'center_x',\n 'center_y',\n 'center_z',\n 'org_x',\n 'org_y',\n 'org_z',\n 'xdir_x',\n 'xdir_y',\n 'xdir_z',\n 'zdir_x',\n 'zdir_y',\n 'zdir_z']"
     },
     "execution_count": 47,
     "metadata": {},
     "output_type": "execute_result"
    }
   ],
   "source": [
    "df_headers"
   ],
   "metadata": {
    "collapsed": false,
    "pycharm": {
     "name": "#%%\n"
    }
   }
  },
  {
   "cell_type": "code",
   "execution_count": 48,
   "outputs": [
    {
     "data": {
      "text/plain": "      frame  seconds  center_x  center_y  center_z     org_x     org_y  \\\n0         0     0.00  0.045857  0.068821 -0.081540  0.003887  0.069184   \n1         1     0.01  0.045868  0.068813 -0.081547  0.003862  0.069154   \n2         2     0.02  0.045856  0.068817 -0.081544  0.003880  0.069194   \n3         3     0.03  0.045849  0.068824 -0.081547  0.003879  0.069186   \n4         4     0.04  0.045851  0.068822 -0.081540  0.003875  0.069197   \n...     ...      ...       ...       ...       ...       ...       ...   \n2570   2570    25.70  0.054029  0.068274  0.209136  0.009873  0.068308   \n2571   2571    25.71  0.054021  0.068267  0.209126  0.009868  0.068302   \n2572   2572    25.72  0.054045  0.068269  0.209130  0.009867  0.068299   \n2573   2573    25.73  0.054040  0.068284  0.209123  0.009869  0.068299   \n2574   2574    25.74  0.054028  0.068278  0.209126  0.009868  0.068299   \n\n         org_z    xdir_x    xdir_y    xdir_z    zdir_x    zdir_y    zdir_z  \n0    -0.146124  0.083270  0.066830 -0.146643  0.005686  0.069255 -0.018596  \n1    -0.146151  0.083285  0.066831 -0.146648  0.005683  0.069261 -0.018592  \n2    -0.146121  0.083275  0.066833 -0.146650  0.005672  0.069261 -0.018588  \n3    -0.146123  0.083275  0.066815 -0.146652  0.005674  0.069258 -0.018586  \n4    -0.146128  0.083278  0.066837 -0.146640  0.005688  0.069259 -0.018586  \n...        ...       ...       ...       ...       ...       ...       ...  \n2570  0.145931  0.089050  0.066059  0.143031  0.016038  0.068579  0.273257  \n2571  0.145933  0.089045  0.066047  0.143030  0.016037  0.068582  0.273258  \n2572  0.145933  0.089044  0.066053  0.143029  0.016028  0.068604  0.273261  \n2573  0.145941  0.089042  0.066056  0.143031  0.016038  0.068585  0.273253  \n2574  0.145942  0.089048  0.066050  0.143033  0.016018  0.068599  0.273267  \n\n[2575 rows x 14 columns]",
      "text/html": "<div>\n<style scoped>\n    .dataframe tbody tr th:only-of-type {\n        vertical-align: middle;\n    }\n\n    .dataframe tbody tr th {\n        vertical-align: top;\n    }\n\n    .dataframe thead th {\n        text-align: right;\n    }\n</style>\n<table border=\"1\" class=\"dataframe\">\n  <thead>\n    <tr style=\"text-align: right;\">\n      <th></th>\n      <th>frame</th>\n      <th>seconds</th>\n      <th>center_x</th>\n      <th>center_y</th>\n      <th>center_z</th>\n      <th>org_x</th>\n      <th>org_y</th>\n      <th>org_z</th>\n      <th>xdir_x</th>\n      <th>xdir_y</th>\n      <th>xdir_z</th>\n      <th>zdir_x</th>\n      <th>zdir_y</th>\n      <th>zdir_z</th>\n    </tr>\n  </thead>\n  <tbody>\n    <tr>\n      <th>0</th>\n      <td>0</td>\n      <td>0.00</td>\n      <td>0.045857</td>\n      <td>0.068821</td>\n      <td>-0.081540</td>\n      <td>0.003887</td>\n      <td>0.069184</td>\n      <td>-0.146124</td>\n      <td>0.083270</td>\n      <td>0.066830</td>\n      <td>-0.146643</td>\n      <td>0.005686</td>\n      <td>0.069255</td>\n      <td>-0.018596</td>\n    </tr>\n    <tr>\n      <th>1</th>\n      <td>1</td>\n      <td>0.01</td>\n      <td>0.045868</td>\n      <td>0.068813</td>\n      <td>-0.081547</td>\n      <td>0.003862</td>\n      <td>0.069154</td>\n      <td>-0.146151</td>\n      <td>0.083285</td>\n      <td>0.066831</td>\n      <td>-0.146648</td>\n      <td>0.005683</td>\n      <td>0.069261</td>\n      <td>-0.018592</td>\n    </tr>\n    <tr>\n      <th>2</th>\n      <td>2</td>\n      <td>0.02</td>\n      <td>0.045856</td>\n      <td>0.068817</td>\n      <td>-0.081544</td>\n      <td>0.003880</td>\n      <td>0.069194</td>\n      <td>-0.146121</td>\n      <td>0.083275</td>\n      <td>0.066833</td>\n      <td>-0.146650</td>\n      <td>0.005672</td>\n      <td>0.069261</td>\n      <td>-0.018588</td>\n    </tr>\n    <tr>\n      <th>3</th>\n      <td>3</td>\n      <td>0.03</td>\n      <td>0.045849</td>\n      <td>0.068824</td>\n      <td>-0.081547</td>\n      <td>0.003879</td>\n      <td>0.069186</td>\n      <td>-0.146123</td>\n      <td>0.083275</td>\n      <td>0.066815</td>\n      <td>-0.146652</td>\n      <td>0.005674</td>\n      <td>0.069258</td>\n      <td>-0.018586</td>\n    </tr>\n    <tr>\n      <th>4</th>\n      <td>4</td>\n      <td>0.04</td>\n      <td>0.045851</td>\n      <td>0.068822</td>\n      <td>-0.081540</td>\n      <td>0.003875</td>\n      <td>0.069197</td>\n      <td>-0.146128</td>\n      <td>0.083278</td>\n      <td>0.066837</td>\n      <td>-0.146640</td>\n      <td>0.005688</td>\n      <td>0.069259</td>\n      <td>-0.018586</td>\n    </tr>\n    <tr>\n      <th>...</th>\n      <td>...</td>\n      <td>...</td>\n      <td>...</td>\n      <td>...</td>\n      <td>...</td>\n      <td>...</td>\n      <td>...</td>\n      <td>...</td>\n      <td>...</td>\n      <td>...</td>\n      <td>...</td>\n      <td>...</td>\n      <td>...</td>\n      <td>...</td>\n    </tr>\n    <tr>\n      <th>2570</th>\n      <td>2570</td>\n      <td>25.70</td>\n      <td>0.054029</td>\n      <td>0.068274</td>\n      <td>0.209136</td>\n      <td>0.009873</td>\n      <td>0.068308</td>\n      <td>0.145931</td>\n      <td>0.089050</td>\n      <td>0.066059</td>\n      <td>0.143031</td>\n      <td>0.016038</td>\n      <td>0.068579</td>\n      <td>0.273257</td>\n    </tr>\n    <tr>\n      <th>2571</th>\n      <td>2571</td>\n      <td>25.71</td>\n      <td>0.054021</td>\n      <td>0.068267</td>\n      <td>0.209126</td>\n      <td>0.009868</td>\n      <td>0.068302</td>\n      <td>0.145933</td>\n      <td>0.089045</td>\n      <td>0.066047</td>\n      <td>0.143030</td>\n      <td>0.016037</td>\n      <td>0.068582</td>\n      <td>0.273258</td>\n    </tr>\n    <tr>\n      <th>2572</th>\n      <td>2572</td>\n      <td>25.72</td>\n      <td>0.054045</td>\n      <td>0.068269</td>\n      <td>0.209130</td>\n      <td>0.009867</td>\n      <td>0.068299</td>\n      <td>0.145933</td>\n      <td>0.089044</td>\n      <td>0.066053</td>\n      <td>0.143029</td>\n      <td>0.016028</td>\n      <td>0.068604</td>\n      <td>0.273261</td>\n    </tr>\n    <tr>\n      <th>2573</th>\n      <td>2573</td>\n      <td>25.73</td>\n      <td>0.054040</td>\n      <td>0.068284</td>\n      <td>0.209123</td>\n      <td>0.009869</td>\n      <td>0.068299</td>\n      <td>0.145941</td>\n      <td>0.089042</td>\n      <td>0.066056</td>\n      <td>0.143031</td>\n      <td>0.016038</td>\n      <td>0.068585</td>\n      <td>0.273253</td>\n    </tr>\n    <tr>\n      <th>2574</th>\n      <td>2574</td>\n      <td>25.74</td>\n      <td>0.054028</td>\n      <td>0.068278</td>\n      <td>0.209126</td>\n      <td>0.009868</td>\n      <td>0.068299</td>\n      <td>0.145942</td>\n      <td>0.089048</td>\n      <td>0.066050</td>\n      <td>0.143033</td>\n      <td>0.016018</td>\n      <td>0.068599</td>\n      <td>0.273267</td>\n    </tr>\n  </tbody>\n</table>\n<p>2575 rows × 14 columns</p>\n</div>"
     },
     "execution_count": 48,
     "metadata": {},
     "output_type": "execute_result"
    }
   ],
   "source": [
    "mo_data = pd.read_csv(pth, skiprows=6)\n",
    "# mo_data = mo_data.rename(mo_data.columns, df_headers)\n",
    "mo_data.columns = df_headers\n",
    "mo_data"
   ],
   "metadata": {
    "collapsed": false,
    "pycharm": {
     "name": "#%%\n"
    }
   }
  }
 ],
 "metadata": {
  "kernelspec": {
   "display_name": "Python 3",
   "language": "python",
   "name": "python3"
  },
  "language_info": {
   "codemirror_mode": {
    "name": "ipython",
    "version": 2
   },
   "file_extension": ".py",
   "mimetype": "text/x-python",
   "name": "python",
   "nbconvert_exporter": "python",
   "pygments_lexer": "ipython2",
   "version": "2.7.6"
  }
 },
 "nbformat": 4,
 "nbformat_minor": 0
}