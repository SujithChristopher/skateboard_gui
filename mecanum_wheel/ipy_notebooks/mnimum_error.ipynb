{
 "cells": [
  {
   "cell_type": "code",
   "execution_count": 1,
   "metadata": {},
   "outputs": [],
   "source": [
    "import pandas as pd\n",
    "import numpy as np\n",
    "import matplotlib.pyplot as plt\n",
    "from pd_support import *\n",
    "from scipy.spatial.transform import Rotation as R\n",
    "from scipy.interpolate import interp1d\n",
    "from datetime import datetime\n",
    "from numba import njit\n",
    "import itertools\n",
    "import warnings\n",
    "from calculations_support import *"
   ]
  },
  {
   "cell_type": "code",
   "execution_count": 2,
   "metadata": {},
   "outputs": [],
   "source": [
    "mc, mc_dt = read_df_csv(\"../data_csv/random_movement_sync_mc.csv\")\n",
    "cart_df = pd.read_csv(\"../data_csv/random_movement_sync.csv\")"
   ]
  },
  {
   "cell_type": "code",
   "execution_count": 3,
   "metadata": {},
   "outputs": [
    {
     "name": "stdout",
     "output_type": "stream",
     "text": [
      "5412\n"
     ]
    },
    {
     "data": {
      "text/plain": [
       "Timestamp('2022-06-23 09:53:21.904000')"
      ]
     },
     "execution_count": 3,
     "metadata": {},
     "output_type": "execute_result"
    }
   ],
   "source": [
    "mc = add_datetime_col(mc, mc_dt, \"seconds\")\n",
    "cart_df = add_datetime_diff(cart_df, mc_dt,\"sync\", \"mils\", True)\n",
    "mc[\"time\"][0]\n"
   ]
  },
  {
   "cell_type": "code",
   "execution_count": 4,
   "metadata": {},
   "outputs": [
    {
     "data": {
      "text/plain": [
       "0.055481"
      ]
     },
     "execution_count": 4,
     "metadata": {},
     "output_type": "execute_result"
    }
   ],
   "source": [
    "\"\"\"getting initial values of motion capture data\"\"\"\n",
    "\n",
    "# marker_cen = np.array(mc[[\"center_x\", \"center_y\", \"center_z\"]].iloc[0]).T\n",
    "marker_xvec = np.array(mc[[\"xdir_x\", \"xdir_y\", \"xdir_z\"]].iloc[0]).T\n",
    "marker_zvec = np.array(mc[[\"zdir_x\", \"zdir_y\", \"zdir_z\"]].iloc[0]).T\n",
    "marker_org = np.array(mc[[\"org_x\", \"org_y\", \"org_z\"]].iloc[0]).T\n",
    "marker_org[0]"
   ]
  },
  {
   "cell_type": "code",
   "execution_count": 5,
   "metadata": {},
   "outputs": [],
   "source": [
    "def calculate_rotmat(xdir,zdir,org):\n",
    "    \"\"\"\n",
    "    this function calculates rotation matrix\n",
    "    \"\"\"\n",
    "    v1 = xdir - org #v1\n",
    "    v2 = zdir - org #v2\n",
    "\n",
    "    vxnorm = v1/np.linalg.norm(v1)\n",
    "\n",
    "    vzcap = v2 - (vxnorm.T @ v2) * vxnorm\n",
    "    vznorm = vzcap/ np.linalg.norm(vzcap)\n",
    "\n",
    "    vynorm = np.cross(vznorm.T[0], vxnorm.T[0]).reshape(3,1)\n",
    "    rotMat = np.hstack((vxnorm, vynorm, vznorm))\n",
    "    return rotMat"
   ]
  },
  {
   "cell_type": "code",
   "execution_count": 6,
   "metadata": {},
   "outputs": [],
   "source": [
    "v1 = marker_xvec - marker_org #v1\n",
    "v2 = marker_zvec - marker_org #v2\n",
    "\n",
    "v1 = v1.reshape(3,1)\n",
    "v2 = v2.reshape(3,1)\n",
    "v3 = marker_org.reshape(3,1)"
   ]
  },
  {
   "cell_type": "code",
   "execution_count": 7,
   "metadata": {},
   "outputs": [],
   "source": [
    "rot_mat = calculate_rotmat(v1, v2, v3)"
   ]
  },
  {
   "cell_type": "code",
   "execution_count": 8,
   "metadata": {},
   "outputs": [],
   "source": [
    "\"\"\"circumfrence of the wheel\"\"\"\n",
    "\n",
    "cir_wheel = np.degrees(2*np.pi*(47.5/1000))\n",
    "cir_wheel\n",
    "radius = 47.5/1000\n",
    "\n",
    "lx = 79 #half of the distance between the wheels\n",
    "ly = 122.5/2\n",
    "\n",
    "lx = lx/1000\n",
    "ly = ly/1000"
   ]
  },
  {
   "cell_type": "code",
   "execution_count": 9,
   "metadata": {},
   "outputs": [],
   "source": [
    "\"\"\"calculating angles\"\"\"\n",
    "\"\"\" angular velocity\"\"\"\n",
    "cart_df[\"av_fr\"] = (cart_df[\"e_fr\"]*0.09).diff()/0.01\n",
    "cart_df[\"av_fl\"] = (cart_df[\"e_fl\"]*0.09).diff()/0.01\n",
    "cart_df[\"av_rr\"] = (cart_df[\"e_rr\"]*0.09).diff()/0.01\n",
    "cart_df[\"av_rl\"] = (cart_df[\"e_rl\"]*0.09).diff()/0.01\n",
    "cart_df['av_fr'] = cart_df[\"av_fr\"].fillna(0)\n",
    "cart_df['av_fl'] = cart_df[\"av_fl\"].fillna(0)\n",
    "cart_df['av_rr'] = cart_df[\"av_rr\"].fillna(0)\n",
    "cart_df['av_rl'] = cart_df[\"av_rl\"].fillna(0)\n",
    "\n",
    "#converting them to radians\n",
    "cart_df['av_fr'] = cart_df[\"av_fr\"]* np.pi/180\n",
    "cart_df['av_fl'] = cart_df[\"av_fl\"]* np.pi/180\n",
    "cart_df['av_rr'] = cart_df[\"av_rr\"]* np.pi/180\n",
    "cart_df['av_rl'] = cart_df[\"av_rl\"]* np.pi/180\n",
    "\n",
    "# cart_df[\"av_fl\"]"
   ]
  },
  {
   "cell_type": "code",
   "execution_count": 14,
   "metadata": {},
   "outputs": [
    {
     "data": {
      "text/plain": [
       "6561"
      ]
     },
     "execution_count": 14,
     "metadata": {},
     "output_type": "execute_result"
    }
   ],
   "source": [
    "\n",
    "_b1 = range(88, 91, 1)\n",
    "_b2 = range(88, 91, 1)\n",
    "_b3 = range(88, 91, 1)\n",
    "_b4 = range(88, 91, 1)\n",
    "_a1 = range(50, 53, 1)\n",
    "_a2= range(50, 53, 1)\n",
    "_a3= range(50, 53, 1)\n",
    "_a4 = range(50, 53, 1)\n",
    "\n",
    "pseudo_mat, iter_array, length_of_iterables = combinations_of_pseudo_mat(_b1, _b2, _b3, _b4, _a1, _a2, _a3, _a4, radius)\n",
    "pseudo_mat.shape\n",
    "length_of_iterables"
   ]
  },
  {
   "cell_type": "code",
   "execution_count": 11,
   "metadata": {},
   "outputs": [],
   "source": [
    "cart_inf = interpolate_data(cart_df, mc, [\"av_fr\", \"av_fl\", \"av_rr\", \"av_rl\"])"
   ]
  },
  {
   "cell_type": "code",
   "execution_count": 12,
   "metadata": {},
   "outputs": [
    {
     "data": {
      "text/html": [
       "<div>\n",
       "<style scoped>\n",
       "    .dataframe tbody tr th:only-of-type {\n",
       "        vertical-align: middle;\n",
       "    }\n",
       "\n",
       "    .dataframe tbody tr th {\n",
       "        vertical-align: top;\n",
       "    }\n",
       "\n",
       "    .dataframe thead th {\n",
       "        text-align: right;\n",
       "    }\n",
       "</style>\n",
       "<table border=\"1\" class=\"dataframe\">\n",
       "  <thead>\n",
       "    <tr style=\"text-align: right;\">\n",
       "      <th></th>\n",
       "      <th>av_fr</th>\n",
       "      <th>av_fl</th>\n",
       "      <th>av_rr</th>\n",
       "      <th>av_rl</th>\n",
       "      <th>time</th>\n",
       "    </tr>\n",
       "  </thead>\n",
       "  <tbody>\n",
       "    <tr>\n",
       "      <th>0</th>\n",
       "      <td>0.0</td>\n",
       "      <td>0.0</td>\n",
       "      <td>0.0</td>\n",
       "      <td>0.0</td>\n",
       "      <td>2022-06-23 09:53:21.904</td>\n",
       "    </tr>\n",
       "    <tr>\n",
       "      <th>1</th>\n",
       "      <td>0.0</td>\n",
       "      <td>0.0</td>\n",
       "      <td>0.0</td>\n",
       "      <td>0.0</td>\n",
       "      <td>2022-06-23 09:53:21.914</td>\n",
       "    </tr>\n",
       "    <tr>\n",
       "      <th>2</th>\n",
       "      <td>0.0</td>\n",
       "      <td>0.0</td>\n",
       "      <td>0.0</td>\n",
       "      <td>0.0</td>\n",
       "      <td>2022-06-23 09:53:21.924</td>\n",
       "    </tr>\n",
       "    <tr>\n",
       "      <th>3</th>\n",
       "      <td>0.0</td>\n",
       "      <td>0.0</td>\n",
       "      <td>0.0</td>\n",
       "      <td>0.0</td>\n",
       "      <td>2022-06-23 09:53:21.934</td>\n",
       "    </tr>\n",
       "    <tr>\n",
       "      <th>4</th>\n",
       "      <td>0.0</td>\n",
       "      <td>0.0</td>\n",
       "      <td>0.0</td>\n",
       "      <td>0.0</td>\n",
       "      <td>2022-06-23 09:53:21.944</td>\n",
       "    </tr>\n",
       "    <tr>\n",
       "      <th>...</th>\n",
       "      <td>...</td>\n",
       "      <td>...</td>\n",
       "      <td>...</td>\n",
       "      <td>...</td>\n",
       "      <td>...</td>\n",
       "    </tr>\n",
       "    <tr>\n",
       "      <th>5401</th>\n",
       "      <td>0.0</td>\n",
       "      <td>0.0</td>\n",
       "      <td>0.0</td>\n",
       "      <td>0.0</td>\n",
       "      <td>2022-06-23 09:54:15.914</td>\n",
       "    </tr>\n",
       "    <tr>\n",
       "      <th>5402</th>\n",
       "      <td>0.0</td>\n",
       "      <td>0.0</td>\n",
       "      <td>0.0</td>\n",
       "      <td>0.0</td>\n",
       "      <td>2022-06-23 09:54:15.924</td>\n",
       "    </tr>\n",
       "    <tr>\n",
       "      <th>5403</th>\n",
       "      <td>0.0</td>\n",
       "      <td>0.0</td>\n",
       "      <td>0.0</td>\n",
       "      <td>0.0</td>\n",
       "      <td>2022-06-23 09:54:15.934</td>\n",
       "    </tr>\n",
       "    <tr>\n",
       "      <th>5404</th>\n",
       "      <td>0.0</td>\n",
       "      <td>0.0</td>\n",
       "      <td>0.0</td>\n",
       "      <td>0.0</td>\n",
       "      <td>2022-06-23 09:54:15.944</td>\n",
       "    </tr>\n",
       "    <tr>\n",
       "      <th>5405</th>\n",
       "      <td>0.0</td>\n",
       "      <td>0.0</td>\n",
       "      <td>0.0</td>\n",
       "      <td>0.0</td>\n",
       "      <td>2022-06-23 09:54:15.954</td>\n",
       "    </tr>\n",
       "  </tbody>\n",
       "</table>\n",
       "<p>5406 rows × 5 columns</p>\n",
       "</div>"
      ],
      "text/plain": [
       "      av_fr  av_fl  av_rr  av_rl                    time\n",
       "0       0.0    0.0    0.0    0.0 2022-06-23 09:53:21.904\n",
       "1       0.0    0.0    0.0    0.0 2022-06-23 09:53:21.914\n",
       "2       0.0    0.0    0.0    0.0 2022-06-23 09:53:21.924\n",
       "3       0.0    0.0    0.0    0.0 2022-06-23 09:53:21.934\n",
       "4       0.0    0.0    0.0    0.0 2022-06-23 09:53:21.944\n",
       "...     ...    ...    ...    ...                     ...\n",
       "5401    0.0    0.0    0.0    0.0 2022-06-23 09:54:15.914\n",
       "5402    0.0    0.0    0.0    0.0 2022-06-23 09:54:15.924\n",
       "5403    0.0    0.0    0.0    0.0 2022-06-23 09:54:15.934\n",
       "5404    0.0    0.0    0.0    0.0 2022-06-23 09:54:15.944\n",
       "5405    0.0    0.0    0.0    0.0 2022-06-23 09:54:15.954\n",
       "\n",
       "[5406 rows x 5 columns]"
      ]
     },
     "execution_count": 12,
     "metadata": {},
     "output_type": "execute_result"
    }
   ],
   "source": [
    "cart_inf"
   ]
  },
  {
   "cell_type": "code",
   "execution_count": 13,
   "metadata": {},
   "outputs": [
    {
     "name": "stdout",
     "output_type": "stream",
     "text": [
      "0      -0.041580\n",
      "1      -0.041599\n",
      "2      -0.041599\n",
      "3      -0.041581\n",
      "4      -0.041580\n",
      "          ...   \n",
      "5401    0.057140\n",
      "5402    0.057139\n",
      "5403    0.057147\n",
      "5404    0.057147\n",
      "5405    0.057155\n",
      "Length: 5406, dtype: float64\n"
     ]
    }
   ],
   "source": [
    "iterate_get_diff(pseudo_mat, cart_inf, [\"av_fr\", \"av_fl\", \"av_rr\", \"av_rl\"], mc, [\"org_z\", \"org_x\"])"
   ]
  },
  {
   "cell_type": "code",
   "execution_count": null,
   "metadata": {},
   "outputs": [],
   "source": []
  }
 ],
 "metadata": {
  "kernelspec": {
   "display_name": "Python 3.7.11 ('py37t2')",
   "language": "python",
   "name": "python3"
  },
  "language_info": {
   "codemirror_mode": {
    "name": "ipython",
    "version": 3
   },
   "file_extension": ".py",
   "mimetype": "text/x-python",
   "name": "python",
   "nbconvert_exporter": "python",
   "pygments_lexer": "ipython3",
   "version": "3.7.11"
  },
  "orig_nbformat": 4,
  "vscode": {
   "interpreter": {
    "hash": "07cf8e4ec2f40bff32486e8c8f167870d55b0d1fe8557518ec615be206ad7cc6"
   }
  }
 },
 "nbformat": 4,
 "nbformat_minor": 2
}
